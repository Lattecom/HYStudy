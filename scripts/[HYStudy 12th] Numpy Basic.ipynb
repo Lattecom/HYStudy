{
 "cells": [
  {
   "cell_type": "code",
   "execution_count": 1,
   "metadata": {
    "scrolled": true
   },
   "outputs": [],
   "source": [
    "import numpy as np"
   ]
  },
  {
   "cell_type": "markdown",
   "metadata": {},
   "source": [
    "+ ndarray\n",
    " - numpy의 기본 자료구조로 vector와 matrix를 표현"
   ]
  },
  {
   "cell_type": "code",
   "execution_count": 2,
   "metadata": {},
   "outputs": [
    {
     "name": "stdout",
     "output_type": "stream",
     "text": [
      "<type 'numpy.ndarray'> \n",
      "[1 2 3 4]\n",
      "<type 'numpy.ndarray'> \n",
      "[[1 2]\n",
      " [3 4]]\n"
     ]
    }
   ],
   "source": [
    "array1 = np.array([1, 2, 3, 4])\n",
    "array2 = np.array([[1, 2], [3, 4]])\n",
    "\n",
    "print type(array1), '\\n', array1\n",
    "print type(array2), '\\n', array2"
   ]
  },
  {
   "cell_type": "markdown",
   "metadata": {},
   "source": [
    "+ arange \n",
    " - range()와 동일하지만 list가 아닌 ndarray 반환"
   ]
  },
  {
   "cell_type": "code",
   "execution_count": 3,
   "metadata": {},
   "outputs": [
    {
     "name": "stdout",
     "output_type": "stream",
     "text": [
      "[1 2 3] <type 'numpy.ndarray'>\n"
     ]
    }
   ],
   "source": [
    "array3 = np.arange(1, 4)\n",
    "print array3, type(array3)"
   ]
  },
  {
   "cell_type": "markdown",
   "metadata": {},
   "source": [
    "+ linspace(start, end, n)\n",
    " - start, end를 n개의 균일한 간격으로 분할"
   ]
  },
  {
   "cell_type": "code",
   "execution_count": 4,
   "metadata": {},
   "outputs": [
    {
     "name": "stdout",
     "output_type": "stream",
     "text": [
      "[  0.    2.5   5.    7.5  10. ]\n"
     ]
    }
   ],
   "source": [
    "# 0 ~ 10의 범위를 5등분\n",
    "array4 = np.linspace(0, 10, 5)\n",
    "print array4"
   ]
  },
  {
   "cell_type": "markdown",
   "metadata": {},
   "source": [
    "+ np.zeros((x, y))\n",
    " - x, y 사이즈의 영행렬 반환(사이즈는 tuple로 전달)  \n",
    " details: https://docs.scipy.org/doc/numpy/reference/generated/numpy.zeros.html#numpy.zeros"
   ]
  },
  {
   "cell_type": "code",
   "execution_count": 5,
   "metadata": {},
   "outputs": [
    {
     "name": "stdout",
     "output_type": "stream",
     "text": [
      "[[ 0.  0.  0.  0.  0.]\n",
      " [ 0.  0.  0.  0.  0.]\n",
      " [ 0.  0.  0.  0.  0.]]\n",
      "[ 0.  0.  0.  0.  0.]\n"
     ]
    }
   ],
   "source": [
    "print np.zeros((3, 5))\n",
    "print np.zeros(5)"
   ]
  },
  {
   "cell_type": "markdown",
   "metadata": {},
   "source": [
    "+ np.ones((x, y))\n",
    " - x, y 사이즈의 행렬(1) 반환(사이즈는 tuple로 전달)  \n",
    " details: https://docs.scipy.org/doc/numpy/reference/generated/numpy.ones.html"
   ]
  },
  {
   "cell_type": "code",
   "execution_count": 6,
   "metadata": {
    "scrolled": false
   },
   "outputs": [
    {
     "name": "stdout",
     "output_type": "stream",
     "text": [
      "[[[[ 1.  1.  1.]\n",
      "   [ 1.  1.  1.]]\n",
      "\n",
      "  [[ 1.  1.  1.]\n",
      "   [ 1.  1.  1.]]\n",
      "\n",
      "  [[ 1.  1.  1.]\n",
      "   [ 1.  1.  1.]]]\n",
      "\n",
      "\n",
      " [[[ 1.  1.  1.]\n",
      "   [ 1.  1.  1.]]\n",
      "\n",
      "  [[ 1.  1.  1.]\n",
      "   [ 1.  1.  1.]]\n",
      "\n",
      "  [[ 1.  1.  1.]\n",
      "   [ 1.  1.  1.]]]]\n",
      "[ 1.  1.  1.  1.  1.]\n"
     ]
    }
   ],
   "source": [
    "# (n1, n2, x, y): (x, y) 행렬(1) n2개 생성 후 그것을 다시 n1개 만큼 생성하여 반환(dimension 증가)\n",
    "print np.ones((2, 3, 2, 3))\n",
    "print np.ones(5)"
   ]
  },
  {
   "cell_type": "markdown",
   "metadata": {},
   "source": [
    "+ random sub package\n",
    " - 무작위에 관한 모든 기능 포함  \n",
    " details: https://docs.scipy.org/doc/numpy/reference/routines.random.html"
   ]
  },
  {
   "cell_type": "code",
   "execution_count": 7,
   "metadata": {},
   "outputs": [
    {
     "name": "stdout",
     "output_type": "stream",
     "text": [
      "[ 0.77767154  0.61339234  0.66991779]\n",
      "[ 0.52741333  0.76161802  0.31063524]\n"
     ]
    }
   ],
   "source": [
    "# np.random.rand(n)\n",
    "## Uniform Distribution으로부터 [0, 1) 실수 n개 출력\n",
    "print np.random.rand(3)\n",
    "\n",
    "# np.random.randn(n)\n",
    "## Standard Normal Distribution으로부터 n개의 실수 출력\n",
    "print np.random.randn(3)"
   ]
  },
  {
   "cell_type": "markdown",
   "metadata": {},
   "source": [
    "- (): 초과, 미만\n",
    "- []: 이상, 이하"
   ]
  },
  {
   "cell_type": "code",
   "execution_count": 8,
   "metadata": {},
   "outputs": [
    {
     "name": "stdout",
     "output_type": "stream",
     "text": [
      "0.311078822994\n"
     ]
    }
   ],
   "source": [
    "a = np.random.rand()\n",
    "print a"
   ]
  },
  {
   "cell_type": "markdown",
   "metadata": {},
   "source": [
    "+ seed(n): n에 따른 랜덤값 생성규칙 지정\n",
    "    - 임의값을 계속 유지해야할 때 사용"
   ]
  },
  {
   "cell_type": "code",
   "execution_count": 9,
   "metadata": {},
   "outputs": [
    {
     "name": "stdout",
     "output_type": "stream",
     "text": [
      "0.548813503927\n",
      "0.076308289374\n"
     ]
    }
   ],
   "source": [
    "np.random.seed(0)\n",
    "print np.random.rand()\n",
    "\n",
    "np.random.seed(7)\n",
    "print np.random.rand()"
   ]
  },
  {
   "cell_type": "markdown",
   "metadata": {},
   "source": [
    "+ slicing: 리스트, 문자열과 동일"
   ]
  },
  {
   "cell_type": "code",
   "execution_count": 10,
   "metadata": {
    "collapsed": true
   },
   "outputs": [],
   "source": [
    "array1 = np.array([1, 2, 3, 4])\n",
    "array2 = np.array([[1, 2], [3, 4], [5, 6]])"
   ]
  },
  {
   "cell_type": "code",
   "execution_count": 11,
   "metadata": {
    "scrolled": true
   },
   "outputs": [
    {
     "name": "stdout",
     "output_type": "stream",
     "text": [
      "1\n",
      "[2 3]\n"
     ]
    }
   ],
   "source": [
    "print array1[0]\n",
    "print array1[1:-1]"
   ]
  },
  {
   "cell_type": "code",
   "execution_count": 12,
   "metadata": {},
   "outputs": [
    {
     "name": "stdout",
     "output_type": "stream",
     "text": [
      "[[1 2]\n",
      " [3 4]\n",
      " [5 6]]\n"
     ]
    }
   ],
   "source": [
    "print array2"
   ]
  },
  {
   "cell_type": "code",
   "execution_count": 13,
   "metadata": {},
   "outputs": [
    {
     "name": "stdout",
     "output_type": "stream",
     "text": [
      "[1 2]\n",
      "2\n",
      "[[3 4]\n",
      " [5 6]]\n",
      "[2 4 6]\n",
      "[[2]\n",
      " [4]\n",
      " [6]]\n"
     ]
    }
   ],
   "source": [
    "# 1행 출력\n",
    "print array2[0]\n",
    "# 1행 2열 출력\n",
    "print array2[0, 1]\n",
    "# 2행부터 끝까지, 1열부터 2열까지\n",
    "print array2[1:, :2]\n",
    "# 전체 행, 2열\n",
    "print array2[:, 1]\n",
    "# 전체 행, 2열부터(범위)\n",
    "print array2[:, 1:]"
   ]
  },
  {
   "cell_type": "markdown",
   "metadata": {},
   "source": [
    "+ array masking\n",
    "  - ndarray의 원소를 선택, 제거 또는 추출하는 방법"
   ]
  },
  {
   "cell_type": "code",
   "execution_count": 14,
   "metadata": {},
   "outputs": [
    {
     "name": "stdout",
     "output_type": "stream",
     "text": [
      "[ 3 19  7 14  8 14 10  8  7  6] <type 'numpy.ndarray'>\n"
     ]
    }
   ],
   "source": [
    "# np.random.randint(x, y, n): [x, y)의 정수 n개 반환\n",
    "array = np.random.randint(0, 20, 10)\n",
    "print array, type(array)"
   ]
  },
  {
   "cell_type": "code",
   "execution_count": 15,
   "metadata": {},
   "outputs": [
    {
     "name": "stdout",
     "output_type": "stream",
     "text": [
      "[14  8 14 10  8  6]\n",
      "[14  8 14 10  8  6]\n"
     ]
    }
   ],
   "source": [
    "# 짝수 선별\n",
    "even_mask = (array % 2 == 0)\n",
    "print array[even_mask]\n",
    "print array[array % 2 == 0]"
   ]
  },
  {
   "cell_type": "markdown",
   "metadata": {},
   "source": [
    "+ operations\n",
    "  - 기본 연산은 벡터화되어 전체 원소에 적용(element-wise)"
   ]
  },
  {
   "cell_type": "code",
   "execution_count": 16,
   "metadata": {},
   "outputs": [
    {
     "name": "stdout",
     "output_type": "stream",
     "text": [
      "[ 5 10 15 20 25]\n"
     ]
    }
   ],
   "source": [
    "array = np.arange(1, 6) * 5\n",
    "print array"
   ]
  },
  {
   "cell_type": "code",
   "execution_count": 17,
   "metadata": {},
   "outputs": [
    {
     "name": "stdout",
     "output_type": "stream",
     "text": [
      "[ 25 100 225 400 625]\n",
      "[  5.  10.  15.  20.  25.]\n"
     ]
    }
   ],
   "source": [
    "array2 = array ** 2\n",
    "print array2\n",
    "print array2 ** 0.5"
   ]
  },
  {
   "cell_type": "code",
   "execution_count": 18,
   "metadata": {},
   "outputs": [
    {
     "name": "stdout",
     "output_type": "stream",
     "text": [
      "array1: [ 2  4  6  8 10 12 14 16 18 20] array2: [ 1  2  3  4  5  6  7  8  9 10]\n",
      "----------------------------------------------------------------------------------------------------\n",
      "array1 - array2 [ 1  2  3  4  5  6  7  8  9 10]\n",
      "array1 * array2 [  2   8  18  32  50  72  98 128 162 200]\n",
      "array1 * array1 [  4  16  36  64 100 144 196 256 324 400]\n"
     ]
    }
   ],
   "source": [
    "array1 = np.arange(0, 20, 2) + 2\n",
    "array2 = np.arange(1, 11)\n",
    "print 'array1:', array1, 'array2:', array2\n",
    "print '-'*100\n",
    "print 'array1 - array2', array1 - array2\n",
    "print 'array1 * array2', array1 * array2\n",
    "print 'array1 * array1', array1 * array1"
   ]
  },
  {
   "cell_type": "code",
   "execution_count": 19,
   "metadata": {},
   "outputs": [
    {
     "name": "stdout",
     "output_type": "stream",
     "text": [
      "[[2 2]\n",
      " [2 2]]\n",
      "[[4 4]\n",
      " [4 4]]\n"
     ]
    }
   ],
   "source": [
    "array1 = np.array([[1, 1], [1, 1]])\n",
    "array2 = np.array([[2, 2], [2, 2]])\n",
    "\n",
    "print array1 * array2  # 원소간 곱셈\n",
    "print array1.dot(array2) # 행렬곱셈(내적)"
   ]
  },
  {
   "cell_type": "markdown",
   "metadata": {},
   "source": [
    "+ logical operator \n",
    "  - all(): 전부\n",
    "  - any(): 아무거나"
   ]
  },
  {
   "cell_type": "code",
   "execution_count": 20,
   "metadata": {},
   "outputs": [
    {
     "name": "stdout",
     "output_type": "stream",
     "text": [
      "[[5 1 8 1]\n",
      " [8 7 4 6]\n",
      " [9 9 8 6]\n",
      " [1 1 3 9]]\n"
     ]
    }
   ],
   "source": [
    "array = np.random.randint(1, 10, size = (4,4))\n",
    "print array"
   ]
  },
  {
   "cell_type": "code",
   "execution_count": 21,
   "metadata": {},
   "outputs": [
    {
     "name": "stdout",
     "output_type": "stream",
     "text": [
      "False\n"
     ]
    }
   ],
   "source": [
    "print np.all(array < 7)"
   ]
  },
  {
   "cell_type": "code",
   "execution_count": 22,
   "metadata": {},
   "outputs": [
    {
     "name": "stdout",
     "output_type": "stream",
     "text": [
      "True\n"
     ]
    }
   ],
   "source": [
    "print np.any(array % 7 == 0)"
   ]
  },
  {
   "cell_type": "markdown",
   "metadata": {},
   "source": [
    "+ ravel: multi-dimensional array -> one-dimensional array"
   ]
  },
  {
   "cell_type": "code",
   "execution_count": 23,
   "metadata": {},
   "outputs": [
    {
     "name": "stdout",
     "output_type": "stream",
     "text": [
      "[[1 2 3]\n",
      " [7 8 9]]\n",
      "[1 2 3 7 8 9]\n"
     ]
    }
   ],
   "source": [
    "array = np.array([[1, 2, 3], [7, 8, 9]])\n",
    "print array\n",
    "print array.ravel()"
   ]
  },
  {
   "cell_type": "markdown",
   "metadata": {},
   "source": [
    "+ .reshape(x, y): x, y배열로 재배열"
   ]
  },
  {
   "cell_type": "code",
   "execution_count": 24,
   "metadata": {},
   "outputs": [
    {
     "name": "stdout",
     "output_type": "stream",
     "text": [
      "[ 1  2  3  4  5  6  7  8  9 10]\n",
      "[[ 1  2  3  4  5]\n",
      " [ 6  7  8  9 10]]\n"
     ]
    }
   ],
   "source": [
    "array = np.arange(1, 11)\n",
    "print array\n",
    "\n",
    "array2 = array.reshape(2, 5)\n",
    "print array2"
   ]
  },
  {
   "cell_type": "code",
   "execution_count": 25,
   "metadata": {},
   "outputs": [
    {
     "name": "stdout",
     "output_type": "stream",
     "text": [
      "[ 1  2  3  4  5  6  7  8  9 10]\n",
      "min: 1\n",
      "mean: 5.5\n",
      "median: 5.5\n",
      "max: 10\n",
      "std: 2.87228132327\n",
      "argmin: 0\n",
      "argmax: 9\n",
      "sum: 55\n",
      "sqrt: [ 1.          1.41421356  1.73205081  2.          2.23606798  2.44948974\n",
      "  2.64575131  2.82842712  3.          3.16227766]\n"
     ]
    }
   ],
   "source": [
    "# numpy methods for descriptive statistics\n",
    "print array\n",
    "print 'min:', np.min(array)    # 최소값\n",
    "print 'mean:', np.mean(array)    # 평균\n",
    "print 'median:', np.median(array)    # 중앙값\n",
    "print 'max:', np.max(array)    # 최대값\n",
    "print 'std:', np.std(array)    # 표준편차\n",
    "print 'argmin:', np.argmin(array)    # 최소값 index 반환\n",
    "print 'argmax:', np.argmax(array)    # 최대값 index 반환\n",
    "print 'sum:', np.sum(array)    # 합계\n",
    "print 'sqrt:', np.sqrt(array)    # 제곱근"
   ]
  },
  {
   "cell_type": "code",
   "execution_count": 26,
   "metadata": {
    "scrolled": true
   },
   "outputs": [
    {
     "name": "stdout",
     "output_type": "stream",
     "text": [
      "8\n",
      "25\n"
     ]
    }
   ],
   "source": [
    "#bit-wise XOR\n",
    "a = 10\n",
    "print 10 ^ 2\n",
    "print 17 ^ 8"
   ]
  }
 ],
 "metadata": {
  "kernelspec": {
   "display_name": "Python 2",
   "language": "python",
   "name": "python2"
  },
  "language_info": {
   "codemirror_mode": {
    "name": "ipython",
    "version": 2
   },
   "file_extension": ".py",
   "mimetype": "text/x-python",
   "name": "python",
   "nbconvert_exporter": "python",
   "pygments_lexer": "ipython2",
   "version": "2.7.13"
  }
 },
 "nbformat": 4,
 "nbformat_minor": 1
}
