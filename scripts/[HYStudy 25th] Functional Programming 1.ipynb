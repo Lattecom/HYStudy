{
 "cells": [
  {
   "cell_type": "markdown",
   "metadata": {},
   "source": [
    "# Functional Programming"
   ]
  },
  {
   "cell_type": "markdown",
   "metadata": {},
   "source": [
    "---\n",
    "## Scala grammar basic"
   ]
  },
  {
   "cell_type": "code",
   "execution_count": 1,
   "metadata": {
    "collapsed": false
   },
   "outputs": [
    {
     "data": {
      "text/plain": [
       "defined \u001b[32mfunction\u001b[39m \u001b[36msum\u001b[39m"
      ]
     },
     "execution_count": 1,
     "metadata": {},
     "output_type": "execute_result"
    }
   ],
   "source": [
    "/* \n",
    "def 함수이름(파라미터이름: 타입, 이름: 타입, ...): 리턴타입 = {\n",
    "  statement\n",
    "  ...\n",
    "}\n",
    "*/\n",
    "def sum(a: Int, b:Int): Int = { // def 키워드로 함수 정의 '='뒤 중괄호 안에 함수 본문\n",
    "  val c = a + b // val 키워드로 상수 정의\n",
    "  println(c)\n",
    "  c  // 마지막 라인의 값이 함수의 리턴값, 파이썬과 달리 return 키워드 사용안함\n",
    "}"
   ]
  },
  {
   "cell_type": "code",
   "execution_count": 2,
   "metadata": {
    "collapsed": false
   },
   "outputs": [
    {
     "name": "stdout",
     "output_type": "stream",
     "text": [
      "7\n"
     ]
    },
    {
     "data": {
      "text/plain": [
       "\u001b[36mres1\u001b[39m: \u001b[32mInt\u001b[39m = \u001b[32m7\u001b[39m"
      ]
     },
     "execution_count": 2,
     "metadata": {},
     "output_type": "execute_result"
    }
   ],
   "source": [
    "sum(3, 4)"
   ]
  },
  {
   "cell_type": "code",
   "execution_count": 3,
   "metadata": {
    "collapsed": false
   },
   "outputs": [
    {
     "data": {
      "text/plain": [
       "defined \u001b[32mclass\u001b[39m \u001b[36mMyClass\u001b[39m\n",
       "defined \u001b[32mobject\u001b[39m \u001b[36mMyModule\u001b[39m"
      ]
     },
     "execution_count": 3,
     "metadata": {},
     "output_type": "execute_result"
    }
   ],
   "source": [
    "// 주석\n",
    "/* 주석2 */\n",
    "/** 문서화 주석 */\n",
    "class MyClass { // class 키워드는 클래스를 선언. 중괄호 `{`,`}` 사이에 클래스 본문 \n",
    "  \n",
    "}\n",
    "object MyModule { // object 키워드는 singletone객체(인스턴스가 하나인 객체) 생성 \n",
    "  def abs(n: Int): Int =  // 함수 본문의 statement가 하나면 중괄호 생략가능\n",
    "    if ( n < 0 ) {  // if 키워드 뒤 소괄호안에 조건식 이후 중괄호 안에 조건문\n",
    "        -n\n",
    "    }\n",
    "    else n // 함수와 마찬가지로 본문 statement가 한개면 중괄호 생략가능\n",
    "  \n",
    "  private def formatAbs(x: Int): String = { // private 메서드는 해당 객체에서만 호출\n",
    "    val msg: String = \"The absolute value of %d is %d\"\n",
    "    msg.format(x, abs(x))\n",
    "  }\n",
    "  \n",
    "  def main(args: Array[String]): Unit = // Unit은 Java의 void, Python의 None과 비슷\n",
    "    println(-42)\n",
    "}"
   ]
  },
  {
   "cell_type": "markdown",
   "metadata": {},
   "source": [
    "---\n",
    "## Side effect, Pure, Referential transparency\n",
    "\n",
    "### Side effect\n",
    "side effect는 함수의 입력값에 따른 결과값(return 값) 이외의 행동들에 대한 것들이다. 예를 들어 변수의 값을 수정, 화면에 문자를 출력 등의 작업이 side effect에 해당한다.\n",
    "\n",
    "### Pure\n",
    "side effect가 없는 것을 pure(순수)하다고 한다.\n",
    "\n",
    "### Referential transparency\n",
    "함수에 정의된 어떤 expression(표현식)을 함수 본문에서 그 표현식을 모두 치환하여도 정상적으로 작동하는 것을 말한다.\n",
    "예를들어, `val x = “bug bug debug”`라는 expression이 있고 코드의 다른 부분에서 x를 사용하는 부분이 있다고 가정했을 때, 그 x를 등호의 오른쪽 표현식인 “bug bug debug”라는 스트링으로 치환 했을때, 코드의 동작이나 의미에 아무런 영향이 없으면 ‘참조에 투명하다’ 라고 한다."
   ]
  },
  {
   "cell_type": "code",
   "execution_count": 4,
   "metadata": {
    "collapsed": false,
    "scrolled": true
   },
   "outputs": [
    {
     "data": {
      "text/plain": [
       "\u001b[36mx\u001b[39m: \u001b[32mString\u001b[39m = \u001b[32m\"Hello, World\"\u001b[39m\n",
       "\u001b[36mr1\u001b[39m: \u001b[32mString\u001b[39m = \u001b[32m\"dlroW ,olleH\"\u001b[39m\n",
       "\u001b[36mr2\u001b[39m: \u001b[32mString\u001b[39m = \u001b[32m\"dlroW ,olleH\"\u001b[39m"
      ]
     },
     "execution_count": 4,
     "metadata": {},
     "output_type": "execute_result"
    }
   ],
   "source": [
    "// 참조에 투명한 경우\n",
    "val x = \"Hello, World\"\n",
    "val r1 = x.reverse\n",
    "val r2 = x.reverse"
   ]
  },
  {
   "cell_type": "code",
   "execution_count": 5,
   "metadata": {
    "collapsed": false
   },
   "outputs": [
    {
     "data": {
      "text/plain": [
       "\u001b[36mr1_\u001b[39m: \u001b[32mString\u001b[39m = \u001b[32m\"dlroW ,olleH\"\u001b[39m\n",
       "\u001b[36mr2_\u001b[39m: \u001b[32mString\u001b[39m = \u001b[32m\"dlroW ,olleH\"\u001b[39m"
      ]
     },
     "execution_count": 5,
     "metadata": {},
     "output_type": "execute_result"
    }
   ],
   "source": [
    "val r1_ = \"Hello, World\".reverse\n",
    "val r2_ = \"Hello, World\".reverse"
   ]
  },
  {
   "cell_type": "code",
   "execution_count": 6,
   "metadata": {
    "collapsed": false
   },
   "outputs": [
    {
     "data": {
      "text/plain": [
       "\u001b[36ml\u001b[39m: \u001b[32mStringBuilder\u001b[39m = \u001b[33mStringBuilder\u001b[39m(\u001b[32m'H'\u001b[39m, \u001b[32m'e'\u001b[39m, \u001b[32m'l'\u001b[39m, \u001b[32m'l'\u001b[39m, \u001b[32m'o'\u001b[39m, \u001b[32m','\u001b[39m, \u001b[32m' '\u001b[39m, \u001b[32m'W'\u001b[39m, \u001b[32m'o'\u001b[39m, \u001b[32m'r'\u001b[39m, \u001b[32m'l'\u001b[39m, \u001b[32m'd'\u001b[39m)\n",
       "\u001b[36mm\u001b[39m: \u001b[32mStringBuilder\u001b[39m = \u001b[33mStringBuilder\u001b[39m(\u001b[32m'H'\u001b[39m, \u001b[32m'e'\u001b[39m, \u001b[32m'l'\u001b[39m, \u001b[32m'l'\u001b[39m, \u001b[32m'o'\u001b[39m, \u001b[32m','\u001b[39m, \u001b[32m' '\u001b[39m, \u001b[32m'W'\u001b[39m, \u001b[32m'o'\u001b[39m, \u001b[32m'r'\u001b[39m, \u001b[32m'l'\u001b[39m, \u001b[32m'd'\u001b[39m)\n",
       "\u001b[36mrr1\u001b[39m: \u001b[32mString\u001b[39m = \u001b[32m\"Hello, World\"\u001b[39m\n",
       "\u001b[36mrr2\u001b[39m: \u001b[32mString\u001b[39m = \u001b[32m\"Hello, World\"\u001b[39m"
      ]
     },
     "execution_count": 6,
     "metadata": {},
     "output_type": "execute_result"
    }
   ],
   "source": [
    "// 참조에 투명하지 않은 경우\n",
    "val l = new StringBuilder(\"Hello\")\n",
    "val m = l.append(\", World\")\n",
    "val rr1 = m.toString\n",
    "val rr2 = m.toString"
   ]
  },
  {
   "cell_type": "code",
   "execution_count": 7,
   "metadata": {
    "collapsed": false
   },
   "outputs": [
    {
     "data": {
      "text/plain": [
       "\u001b[36mb\u001b[39m: \u001b[32mStringBuilder\u001b[39m = \u001b[33mStringBuilder\u001b[39m(\n",
       "  \u001b[32m'H'\u001b[39m,\n",
       "  \u001b[32m'e'\u001b[39m,\n",
       "  \u001b[32m'l'\u001b[39m,\n",
       "  \u001b[32m'l'\u001b[39m,\n",
       "  \u001b[32m'o'\u001b[39m,\n",
       "  \u001b[32m','\u001b[39m,\n",
       "  \u001b[32m' '\u001b[39m,\n",
       "  \u001b[32m'W'\u001b[39m,\n",
       "  \u001b[32m'o'\u001b[39m,\n",
       "  \u001b[32m'r'\u001b[39m,\n",
       "  \u001b[32m'l'\u001b[39m,\n",
       "\u001b[33m...\u001b[39m\n",
       "\u001b[36mrr1_\u001b[39m: \u001b[32mString\u001b[39m = \u001b[32m\"Hello, World\"\u001b[39m\n",
       "\u001b[36mrr2_\u001b[39m: \u001b[32mString\u001b[39m = \u001b[32m\"Hello, World, World\"\u001b[39m"
      ]
     },
     "execution_count": 7,
     "metadata": {},
     "output_type": "execute_result"
    }
   ],
   "source": [
    "val b = new StringBuilder(\"Hello\")\n",
    "val rr1_ = b.append(\", World\").toString\n",
    "val rr2_ = b.append(\", World\").toString"
   ]
  },
  {
   "cell_type": "markdown",
   "metadata": {},
   "source": [
    "# Tail recursion\n",
    "재귀함수 호출부분에 함수 호출 외의 연산식이 없는 재귀함수.\n",
    "\n",
    "재귀함수의 고질적인 문제인 stackoverflow를 해결할 수 있음."
   ]
  },
  {
   "cell_type": "code",
   "execution_count": 8,
   "metadata": {
    "collapsed": false
   },
   "outputs": [
    {
     "data": {
      "text/plain": [
       "defined \u001b[32mfunction\u001b[39m \u001b[36msumToN\u001b[39m\n",
       "\u001b[36mres7_1\u001b[39m: \u001b[32mInt\u001b[39m = \u001b[32m10\u001b[39m"
      ]
     },
     "execution_count": 8,
     "metadata": {},
     "output_type": "execute_result"
    }
   ],
   "source": [
    "// 일반적인 재귀함수\n",
    "def sumToN(n: Int): Int = {\n",
    "//   @annotation.tailrec\n",
    "  def go(n: Int): Int = \n",
    "    if (n>0) n + go(n-1)\n",
    "    else 0\n",
    "  go(n)\n",
    "}\n",
    "\n",
    "sumToN(4)"
   ]
  },
  {
   "cell_type": "code",
   "execution_count": 9,
   "metadata": {
    "collapsed": false
   },
   "outputs": [
    {
     "data": {
      "text/plain": [
       "defined \u001b[32mfunction\u001b[39m \u001b[36mfactorial\u001b[39m\n",
       "\u001b[36mres8_1\u001b[39m: \u001b[32mInt\u001b[39m = \u001b[32m24\u001b[39m"
      ]
     },
     "execution_count": 9,
     "metadata": {},
     "output_type": "execute_result"
    }
   ],
   "source": [
    "// 꼬리재귀함수\n",
    "def factorial(n: Int): Int = {\n",
    "  // tailrec\n",
    "  // 재귀함수 서명위에 아래의 annotation(주해)를 추가하면 \n",
    "  // 컴파일러가 꼬리재귀인지 검사해주고 아니면 에러를 냄\n",
    "  @annotation.tailrec  \n",
    "  def go(n: Int, acc: Int): Int = \n",
    "    if(n<=0) acc\n",
    "    else go(n-1, acc*n)\n",
    "  go(n, 1)\n",
    "}\n",
    "factorial(4)"
   ]
  },
  {
   "cell_type": "markdown",
   "metadata": {},
   "source": [
    "# 연습문제 2.1\n",
    "n번째 피보나치 수를 돌려주는 재귀 함수를 작성하라. 처음 두 피보나치 수는 0과 1이다. n번째 피보나치 수는 항상 이전 두 수의 합이다. \n",
    "즉, 피보나치 수열은 0, 1, 1, 2, 3, 5로 시작한다. 반드시 지역 꼬리재귀 함수를 사용해서 작성할 것.\n",
    "``` scala\n",
    "def fib(n: Int): Int\n",
    "```\n",
    "1. 0 + 1 = 1\n",
    "2. 1 + 1 = 2\n",
    "3. 1 + 2 = 3\n",
    "4. 2 + 3 = 5\n",
    "5. 3 + 5 = 8"
   ]
  },
  {
   "cell_type": "code",
   "execution_count": null,
   "metadata": {
    "collapsed": true
   },
   "outputs": [],
   "source": [
    "def fib(n: Int): Int = {\n",
    "  @annotation.tailrec\n",
    "  def go(n: Int, acc: Int, pre: Int): Int = {\n",
    "    if(  )\n",
    "    else if()\n",
    "    else\n",
    "  }\n",
    "  go(???)\n",
    "}"
   ]
  },
  {
   "cell_type": "markdown",
   "metadata": {},
   "source": [
    "# 연습문제 2.2\n",
    "\n",
    "Array[A]가 주어진 비교 함수에 의거해서 정렬되어 있는지 점검하는 isSorted함수를 구현하라.\n",
    "서명은 다음과 같다.\n",
    "```scala\n",
    "def isSorted[A](as: Array[A], ordered: (A,A) => Boolean): Boolean\n",
    "```"
   ]
  }
 ],
 "metadata": {
  "kernelspec": {
   "display_name": "Scala",
   "language": "scala",
   "name": "scala"
  },
  "language_info": {
   "codemirror_mode": "text/x-scala",
   "file_extension": ".scala",
   "mimetype": "text/x-scala",
   "name": "scala211",
   "nbconvert_exporter": "script",
   "pygments_lexer": "scala",
   "version": "2.11.8"
  }
 },
 "nbformat": 4,
 "nbformat_minor": 2
}
