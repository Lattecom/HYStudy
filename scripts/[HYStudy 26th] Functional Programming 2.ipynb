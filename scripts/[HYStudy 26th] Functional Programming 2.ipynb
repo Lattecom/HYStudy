{
 "cells": [
  {
   "cell_type": "markdown",
   "metadata": {},
   "source": [
    "# Functional Programming"
   ]
  },
  {
   "cell_type": "markdown",
   "metadata": {},
   "source": [
    "---\n",
    "## 모듈, 객체, 이름공간\n",
    "```scala\n",
    "object MyModule {\n",
    "    def abs(n: Int): Int = {\n",
    "        ???\n",
    "    }\n",
    "}\n",
    "MyModule.abs(-3)\n",
    "```\n",
    "method abs 호출 시에 MyModule.abs(-3) 같은 방식으로 호출해야함. 여기서 MyModule은 abs가 속한 namespace가 됨. namespace 제공이 주된 목적인 객체를 Module이라고 부름.\n",
    "\n",
    "### 용어 구분\n",
    "- procedure: side effect가 있는 함수. impure function라고 부르기도 함.\n",
    "- method: 클래스의 멤버인 함수\n",
    "- function: 일반적인 함수"
   ]
  },
  {
   "cell_type": "markdown",
   "metadata": {},
   "source": [
    "---\n",
    "## 고차 함수\n",
    "함수를 인수로 받는 함수"
   ]
  },
  {
   "cell_type": "code",
   "execution_count": 1,
   "metadata": {
    "collapsed": false
   },
   "outputs": [
    {
     "data": {
      "text/plain": [
       "defined \u001b[32mfunction\u001b[39m \u001b[36mabs\u001b[39m\n",
       "defined \u001b[32mfunction\u001b[39m \u001b[36mformatAbs\u001b[39m\n",
       "\u001b[36mres0_2\u001b[39m: \u001b[32mString\u001b[39m = \u001b[32m\" The absolute value of -4 is 4.\"\u001b[39m"
      ]
     },
     "execution_count": 1,
     "metadata": {},
     "output_type": "execute_result"
    }
   ],
   "source": [
    "def abs(n: Int): Int = \n",
    "    if (n < 0) -n\n",
    "    else n\n",
    "\n",
    "def formatAbs(x: Int): String = {\n",
    "    val msg = \" The absolute value of %d is %d.\"\n",
    "    msg.format(x, abs(x))\n",
    "}\n",
    "formatAbs(-4)"
   ]
  },
  {
   "cell_type": "code",
   "execution_count": 2,
   "metadata": {
    "collapsed": false
   },
   "outputs": [
    {
     "data": {
      "text/plain": [
       "defined \u001b[32mfunction\u001b[39m \u001b[36mfactorial\u001b[39m\n",
       "defined \u001b[32mfunction\u001b[39m \u001b[36mformatFactorial\u001b[39m\n",
       "\u001b[36mres1_2\u001b[39m: \u001b[32mString\u001b[39m = \u001b[32m\" The factorial of 5 is 120.\"\u001b[39m"
      ]
     },
     "execution_count": 2,
     "metadata": {},
     "output_type": "execute_result"
    }
   ],
   "source": [
    "def factorial(n: Int): Int = {\n",
    "    def go(n: Int, acc: Int): Int =\n",
    "        if (n <= 0) acc\n",
    "        else go(n-1, acc*n)\n",
    "    go(n, 1)\n",
    "}\n",
    "\n",
    "def formatFactorial(x: Int): String = {\n",
    "    val msg = \" The factorial of %d is %d.\"\n",
    "    msg.format(x, factorial(x))\n",
    "}\n",
    "formatFactorial(5)"
   ]
  },
  {
   "cell_type": "markdown",
   "metadata": {},
   "source": [
    "### DRY(Don't Repeat Yourself)"
   ]
  },
  {
   "cell_type": "code",
   "execution_count": 3,
   "metadata": {
    "collapsed": false
   },
   "outputs": [
    {
     "data": {
      "text/plain": [
       "defined \u001b[32mfunction\u001b[39m \u001b[36mformatResult\u001b[39m\n",
       "\u001b[36mres2_1\u001b[39m: \u001b[32mString\u001b[39m = \u001b[32m\"The absolute of -4 is 4.\"\u001b[39m\n",
       "\u001b[36mres2_2\u001b[39m: \u001b[32mString\u001b[39m = \u001b[32m\"The factorial of 5 is 120.\"\u001b[39m"
      ]
     },
     "execution_count": 3,
     "metadata": {},
     "output_type": "execute_result"
    }
   ],
   "source": [
    "// 파라미터 f는 Int를 인수로 받아서 Int를 리턴하는 함수\n",
    "def formatResult(name: String, n: Int, f: Int => Int): String = {\n",
    "    val msg= \"The %s of %d is %d.\"\n",
    "    msg.format(name, n, f(n))\n",
    "}\n",
    "formatResult(\"absolute\", -4, abs)\n",
    "formatResult(\"factorial\", 5, factorial)"
   ]
  },
  {
   "cell_type": "markdown",
   "metadata": {},
   "source": [
    "---\n",
    "## 다형적 함수: 형식에 대한 추상\n",
    "- 단형적 함수(monomorphic function): 특정 형식(type)에만 작용하는 함수\n",
    "- 다형적 함수(polymorphic function): 임의의 형식(type)에 작용하는 함수"
   ]
  },
  {
   "cell_type": "markdown",
   "metadata": {
    "collapsed": true
   },
   "source": [
    "monomorphic function의 예\n",
    "\n",
    "String 배열에서 String을 찾는 함수\n",
    "```scala\n",
    "def findFirst(ss: Array[String], key: String): Int = {\n",
    "    @annotation.tailrec\n",
    "    def loop(n: Int): Int = \n",
    "        if(n >= ss.length) -1\n",
    "        else if(ss(n) == key) n\n",
    "        else loop(n+1)\n",
    "    loop(0)\n",
    "}\n",
    "```\n"
   ]
  },
  {
   "cell_type": "markdown",
   "metadata": {},
   "source": [
    "polymorphic function의 예\n",
    "\n",
    "임의의 형식 A의 배열에서 특정 A를 찾는 함수\n",
    "```scala\n",
    "def findFirst[A](ss: Array[A], p: A => Boolean): Int = { \n",
    "    @annotation.tailrec\n",
    "    def loop(n: Int): Int = \n",
    "        if(n >= ss.length) -1\n",
    "        else if(p(as(n))) n // 상등판정을 하드코딩하는 대신 배열의 각 요소를 검사하는 함수를 사용\n",
    "        else loop(n+1)\n",
    "    loop(0)\n",
    "}\n",
    "```"
   ]
  },
  {
   "cell_type": "markdown",
   "metadata": {},
   "source": [
    "## 연습문제 2.2\n",
    "\n",
    "Array[A]가 주어진 비교 함수에 의거해서 정렬되어 있는지 점검하는 isSorted함수를 구현하라.\n",
    "서명은 다음과 같다.\n",
    "```scala\n",
    "def isSorted[A](as: Array[A], ordered: (A,A) => Boolean): Boolean\n",
    "```"
   ]
  },
  {
   "cell_type": "code",
   "execution_count": 1,
   "metadata": {
    "collapsed": false
   },
   "outputs": [
    {
     "data": {
      "text/plain": [
       "defined \u001b[32mfunction\u001b[39m \u001b[36misSorted\u001b[39m"
      ]
     },
     "execution_count": 1,
     "metadata": {},
     "output_type": "execute_result"
    }
   ],
   "source": [
    "def isSorted[A](as: Array[A], ordered: (A, A) => Boolean): Boolean = {\n",
    "    def loop(n: Int): Boolean =\n",
    "        if (n == as.length -1) true\n",
    "        else if (ordered(as(n), as(n+1))) loop(n+1)\n",
    "        else false\n",
    "    loop(0)\n",
    "}"
   ]
  },
  {
   "cell_type": "code",
   "execution_count": 2,
   "metadata": {
    "collapsed": false
   },
   "outputs": [
    {
     "data": {
      "text/plain": [
       "defined \u001b[32mfunction\u001b[39m \u001b[36mbigger\u001b[39m"
      ]
     },
     "execution_count": 2,
     "metadata": {},
     "output_type": "execute_result"
    }
   ],
   "source": [
    "def bigger(a: Int, b: Int): Boolean = \n",
    "    a < b"
   ]
  },
  {
   "cell_type": "code",
   "execution_count": 3,
   "metadata": {
    "collapsed": false
   },
   "outputs": [
    {
     "data": {
      "text/plain": [
       "\u001b[36mres2\u001b[39m: \u001b[32mBoolean\u001b[39m = \u001b[32mfalse\u001b[39m"
      ]
     },
     "execution_count": 3,
     "metadata": {},
     "output_type": "execute_result"
    }
   ],
   "source": [
    "isSorted(Array(1, 3, 2), bigger)"
   ]
  }
 ],
 "metadata": {
  "kernelspec": {
   "display_name": "Scala",
   "language": "scala",
   "name": "scala"
  },
  "language_info": {
   "codemirror_mode": "text/x-scala",
   "file_extension": ".scala",
   "mimetype": "text/x-scala",
   "name": "scala211",
   "nbconvert_exporter": "script",
   "pygments_lexer": "scala",
   "version": "2.11.8"
  }
 },
 "nbformat": 4,
 "nbformat_minor": 2
}
