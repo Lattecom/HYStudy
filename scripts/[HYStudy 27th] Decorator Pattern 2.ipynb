{
 "cells": [
  {
   "cell_type": "markdown",
   "metadata": {},
   "source": [
    "# Decorator Pattern 2"
   ]
  },
  {
   "cell_type": "markdown",
   "metadata": {},
   "source": [
    "### Closure를 활용한 decorator 매개변수화(decorator factory)"
   ]
  },
  {
   "cell_type": "markdown",
   "metadata": {},
   "source": [
    "#### 예시\n",
    "#### 구현목표\n",
    "    - 받아들일 수 있는 위치기반 인자의 자료형과 개수 지정\n",
    "    - 그러한 특성을 함수마다 다르게 적용\n",
    "```python\n",
    "# @statically_typed: 함수나 메서드, 클래스를 유일한 인자로 받기때문에 decorator는 아님.\n",
    "@statically_typed(str, str, return_type=str)  # decorator factory\n",
    "def make_tagged(text, tag):\n",
    "    return \"<{0}{1}</{0}>\".format(tag, escape(text))\n",
    "\n",
    "@statically_typed(str, int, str)  # 어떤 반환 타입이든 받아들일 수 있음.\n",
    "def repeat(what, count, separator):\n",
    "    return ((what + separator) * count)[:-len(separator)]\n",
    "```"
   ]
  },
  {
   "cell_type": "code",
   "execution_count": 9,
   "metadata": {
    "collapsed": true
   },
   "outputs": [],
   "source": [
    "def statically_typed(*types, return_type=None):  # Decorator factory\n",
    "    def decorator(function):  # 팩토리가 반환할 decorator 함수\n",
    "        @functools.wraps(function)\n",
    "        def wrapper(*args, **kwargs):  # Decorator가 반환할 래퍼 함수\n",
    "            if len(args) > len(types):\n",
    "                raise ValueError(\"too many arguments\")\n",
    "            elif len(args) < len(types):\n",
    "                raise ValueError(\"too few arguments\")\n",
    "                \n",
    "            for i, (arg, type_) in enumerate(zip(args, types)):\n",
    "                # 자료값의 Type 비교(지정인자, 지정타입 일치여부)\n",
    "                if not isinstance(arg, type_):\n",
    "                    raise ValueError(\"argument {} must be of type {}\"\n",
    "                                     .format(i, type_.__name__))\n",
    "            result = function(*args, **kwargs)\n",
    "            \n",
    "            if (return_type is not None and\n",
    "                not isinstance(result, return_type)):  # result의 Type 비교\n",
    "                raise ValueError(\"return value must be of type {}\".format(\n",
    "                    return_type.__name__))\n",
    "            return result\n",
    "        return wrapper\n",
    "    return decorator"
   ]
  },
  {
   "cell_type": "code",
   "execution_count": 10,
   "metadata": {
    "collapsed": true
   },
   "outputs": [],
   "source": [
    "@statically_typed(str, str, return_type=str)\n",
    "def make_tagged(text, tag):\n",
    "    return \"<{0}{1}</{0}>\".format(tag, escape(text))\n",
    "\n",
    "@statically_typed(str, int, str)\n",
    "def repeat(what, count, separator):\n",
    "    return ((what + separator) * count)[:-len(separator)]"
   ]
  },
  {
   "cell_type": "code",
   "execution_count": 13,
   "metadata": {},
   "outputs": [
    {
     "ename": "ValueError",
     "evalue": "argument 1 must be of type int",
     "output_type": "error",
     "traceback": [
      "\u001b[1;31m---------------------------------------------------------------------------\u001b[0m",
      "\u001b[1;31mValueError\u001b[0m                                Traceback (most recent call last)",
      "\u001b[1;32m<ipython-input-13-7b3da1ade2c0>\u001b[0m in \u001b[0;36m<module>\u001b[1;34m()\u001b[0m\n\u001b[1;32m----> 1\u001b[1;33m \u001b[0mrepeat\u001b[0m\u001b[1;33m(\u001b[0m\u001b[1;34m\"ABC\"\u001b[0m\u001b[1;33m,\u001b[0m \u001b[1;34m\"3\"\u001b[0m\u001b[1;33m,\u001b[0m \u001b[1;34m\",\"\u001b[0m\u001b[1;33m)\u001b[0m\u001b[1;33m\u001b[0m\u001b[0m\n\u001b[0m",
      "\u001b[1;32m<ipython-input-9-6eee9841102c>\u001b[0m in \u001b[0;36mwrapper\u001b[1;34m(*args, **kwargs)\u001b[0m\n\u001b[0;32m     12\u001b[0m                 \u001b[1;32mif\u001b[0m \u001b[1;32mnot\u001b[0m \u001b[0misinstance\u001b[0m\u001b[1;33m(\u001b[0m\u001b[0marg\u001b[0m\u001b[1;33m,\u001b[0m \u001b[0mtype_\u001b[0m\u001b[1;33m)\u001b[0m\u001b[1;33m:\u001b[0m\u001b[1;33m\u001b[0m\u001b[0m\n\u001b[0;32m     13\u001b[0m                     raise ValueError(\"argument {} must be of type {}\"\n\u001b[1;32m---> 14\u001b[1;33m                                      .format(i, type_.__name__))\n\u001b[0m\u001b[0;32m     15\u001b[0m             \u001b[0mresult\u001b[0m \u001b[1;33m=\u001b[0m \u001b[0mfunction\u001b[0m\u001b[1;33m(\u001b[0m\u001b[1;33m*\u001b[0m\u001b[0margs\u001b[0m\u001b[1;33m,\u001b[0m \u001b[1;33m**\u001b[0m\u001b[0mkwargs\u001b[0m\u001b[1;33m)\u001b[0m\u001b[1;33m\u001b[0m\u001b[0m\n\u001b[0;32m     16\u001b[0m \u001b[1;33m\u001b[0m\u001b[0m\n",
      "\u001b[1;31mValueError\u001b[0m: argument 1 must be of type int"
     ]
    }
   ],
   "source": [
    "repeat(\"ABC\", \"3\", \",\")"
   ]
  },
  {
   "cell_type": "code",
   "execution_count": 12,
   "metadata": {},
   "outputs": [
    {
     "name": "stdout",
     "output_type": "stream",
     "text": [
      "0 ('ABC', <class 'str'>)\n",
      "1 (3, <class 'int'>)\n",
      "2 (',', <class 'str'>)\n"
     ]
    }
   ],
   "source": [
    "args = [\"ABC\", 3, \",\"]\n",
    "types = [str, int, str]\n",
    "for i, (arg, type_) in enumerate(zip(args, types)):\n",
    "    print(i, (arg, type_))"
   ]
  },
  {
   "cell_type": "markdown",
   "metadata": {},
   "source": [
    "#### 내부 동작순서 확인\n",
    "\n",
    "```python\n",
    "def statically_typed(*types, return_type=None):  # 1. statically_typed 호출\n",
    "    def decorator(function):  # 3. function 호출(유일한 인자로 decorator에 전달)\n",
    "        @functools.wraps(function)\n",
    "        def wrapper(*args, **kwargs):\n",
    "            return result\n",
    "        return wrapper  # 4. 저장된 자료형에 따른(가변적) 새로운 wrapper() 반환/진입\n",
    "    return decorator  # 2. decorator 반환/진입(statically_typed 인자 저장, closure)\n",
    "```"
   ]
  },
  {
   "cell_type": "markdown",
   "metadata": {},
   "source": [
    "### 매개변수화되지 않은 decorator 예시\n",
    "#### 구현목표\n",
    "- 사용자가 로그인해 있을 때에만 페이지에 접근허용, 아니면 login 페이지로 이동\n",
    "\n",
    "```python\n",
    "@application.post(\"/mailinglists/add\")  # 최종적으로 mailinglist/add 페이지에 접근\n",
    "@Web.ensure_logged_in  # 페이지 접근 전 로그인 확인\n",
    "def person_add_submit(username):\n",
    "    name = bottle.request.forms.get(\"name\")\n",
    "    try:\n",
    "        id = Data.MailingLists.add(name)\n",
    "        bottle.redirect(\"/mailinglists/view\")\n",
    "    except Data.Sql.Error as err:\n",
    "        return bottle.mako_template(\"error\", url=\"/mailinglists/add\",\n",
    "                                    text=\"Add Mailinglist\", message=str(err))\n",
    "                                    \n",
    "def ensure_logged_in(function):\n",
    "    @functools.wraps(function)\n",
    "    def wrapper(*args, **kwargs):\n",
    "        # 사용자 계정명 조회\n",
    "        username = bottle.request.get_cookie(COOKIE, secret=secret(bottle.request))\n",
    "        # 사용자 로그인 상태 확인\n",
    "        if username is not None:\n",
    "            # 키워드 인자에 사용자 계정명 추가\n",
    "            kwargs[\"username\"] = username\n",
    "            # 원본 함수 반환\n",
    "            return function(*args, **kwargs)\n",
    "        bottle.redirect(\"/login\")\n",
    "    return wrapper\n",
    "```\n"
   ]
  },
  {
   "cell_type": "markdown",
   "metadata": {},
   "source": [
    "## Class decorator"
   ]
  },
  {
   "cell_type": "markdown",
   "metadata": {},
   "source": [
    "- getter와 setter"
   ]
  },
  {
   "cell_type": "code",
   "execution_count": 14,
   "metadata": {},
   "outputs": [
    {
     "name": "stdout",
     "output_type": "stream",
     "text": [
      "Getter gets...\n",
      "1000\n",
      "Setter sets... 100\n",
      "Getter gets...\n",
      "100\n"
     ]
    },
    {
     "ename": "ValueError",
     "evalue": "Value must be integer",
     "output_type": "error",
     "traceback": [
      "\u001b[1;31m---------------------------------------------------------------------------\u001b[0m",
      "\u001b[1;31mValueError\u001b[0m                                Traceback (most recent call last)",
      "\u001b[1;32m<ipython-input-14-fe8acfc9e9c9>\u001b[0m in \u001b[0;36m<module>\u001b[1;34m()\u001b[0m\n\u001b[0;32m     17\u001b[0m \u001b[0mbook\u001b[0m\u001b[1;33m.\u001b[0m\u001b[0mset_price\u001b[0m\u001b[1;33m(\u001b[0m\u001b[1;36m100\u001b[0m\u001b[1;33m)\u001b[0m\u001b[1;33m\u001b[0m\u001b[0m\n\u001b[0;32m     18\u001b[0m \u001b[0mprint\u001b[0m\u001b[1;33m(\u001b[0m\u001b[0mbook\u001b[0m\u001b[1;33m.\u001b[0m\u001b[0mget_price\u001b[0m\u001b[1;33m(\u001b[0m\u001b[1;33m)\u001b[0m\u001b[1;33m)\u001b[0m\u001b[1;33m\u001b[0m\u001b[0m\n\u001b[1;32m---> 19\u001b[1;33m \u001b[0mbook\u001b[0m\u001b[1;33m.\u001b[0m\u001b[0mset_price\u001b[0m\u001b[1;33m(\u001b[0m\u001b[1;34m\"100원\"\u001b[0m\u001b[1;33m)\u001b[0m\u001b[1;33m\u001b[0m\u001b[0m\n\u001b[0m",
      "\u001b[1;32m<ipython-input-14-fe8acfc9e9c9>\u001b[0m in \u001b[0;36mset_price\u001b[1;34m(self, value)\u001b[0m\n\u001b[0;32m     11\u001b[0m             \u001b[0mself\u001b[0m\u001b[1;33m.\u001b[0m\u001b[0m_price\u001b[0m \u001b[1;33m=\u001b[0m \u001b[0mvalue\u001b[0m\u001b[1;33m\u001b[0m\u001b[0m\n\u001b[0;32m     12\u001b[0m         \u001b[1;32melse\u001b[0m\u001b[1;33m:\u001b[0m\u001b[1;33m\u001b[0m\u001b[0m\n\u001b[1;32m---> 13\u001b[1;33m             \u001b[1;32mraise\u001b[0m \u001b[0mValueError\u001b[0m\u001b[1;33m(\u001b[0m\u001b[1;34m\"Value must be integer\"\u001b[0m\u001b[1;33m)\u001b[0m\u001b[1;33m\u001b[0m\u001b[0m\n\u001b[0m\u001b[0;32m     14\u001b[0m \u001b[1;33m\u001b[0m\u001b[0m\n\u001b[0;32m     15\u001b[0m \u001b[0mbook\u001b[0m \u001b[1;33m=\u001b[0m \u001b[0mBook\u001b[0m\u001b[1;33m(\u001b[0m\u001b[1;33m)\u001b[0m\u001b[1;33m\u001b[0m\u001b[0m\n",
      "\u001b[1;31mValueError\u001b[0m: Value must be integer"
     ]
    }
   ],
   "source": [
    "class Book:\n",
    "    def __init__(self):\n",
    "        self._price = 1000\n",
    "    \n",
    "    def get_price(self):\n",
    "        print(\"Getter gets...\")\n",
    "        return self._price\n",
    "    def set_price(self, value):\n",
    "        if type(value) == int:\n",
    "            print(\"Setter sets...\", value)\n",
    "            self._price = value\n",
    "        else:\n",
    "            raise ValueError(\"Value must be integer\")\n",
    "\n",
    "book = Book()\n",
    "print(book.get_price())\n",
    "book.set_price(100)\n",
    "print(book.get_price())\n",
    "book.set_price(\"100원\")"
   ]
  },
  {
   "cell_type": "markdown",
   "metadata": {},
   "source": [
    "- **Pythonic**: decorator 활용\n",
    "    - price = property(get_price, set_price)\n",
    "    \n",
    "```python\n",
    "property(fget=None, fset=None, fdel=None, doc=None)\n",
    "\n",
    "# 비어있는 property 인스턴스 생성\n",
    "price = property()\n",
    "# fget 설정\n",
    "price = price.getter(get_price)\n",
    "# fset 설정\n",
    "price = price.setter(set_price)\n",
    "```"
   ]
  },
  {
   "cell_type": "code",
   "execution_count": 15,
   "metadata": {},
   "outputs": [
    {
     "name": "stdout",
     "output_type": "stream",
     "text": [
      "1000\n",
      "100\n"
     ]
    },
    {
     "ename": "ValueError",
     "evalue": "Value must be integer",
     "output_type": "error",
     "traceback": [
      "\u001b[0;31m---------------------------------------------------------------------------\u001b[0m",
      "\u001b[0;31mValueError\u001b[0m                                Traceback (most recent call last)",
      "\u001b[0;32m<ipython-input-15-bd06bb8e4300>\u001b[0m in \u001b[0;36m<module>\u001b[0;34m()\u001b[0m\n\u001b[1;32m     18\u001b[0m \u001b[0mbook\u001b[0m\u001b[0;34m.\u001b[0m\u001b[0mprice\u001b[0m \u001b[0;34m=\u001b[0m \u001b[0;36m100\u001b[0m\u001b[0;34m\u001b[0m\u001b[0m\n\u001b[1;32m     19\u001b[0m \u001b[0mprint\u001b[0m\u001b[0;34m(\u001b[0m\u001b[0mbook\u001b[0m\u001b[0;34m.\u001b[0m\u001b[0mprice\u001b[0m\u001b[0;34m)\u001b[0m\u001b[0;34m\u001b[0m\u001b[0m\n\u001b[0;32m---> 20\u001b[0;31m \u001b[0mbook\u001b[0m\u001b[0;34m.\u001b[0m\u001b[0mprice\u001b[0m \u001b[0;34m=\u001b[0m \u001b[0;34m\"100원\"\u001b[0m\u001b[0;34m\u001b[0m\u001b[0m\n\u001b[0m",
      "\u001b[0;32m<ipython-input-15-bd06bb8e4300>\u001b[0m in \u001b[0;36mprice\u001b[0;34m(self, value)\u001b[0m\n\u001b[1;32m     12\u001b[0m             \u001b[0mself\u001b[0m\u001b[0;34m.\u001b[0m\u001b[0m_price\u001b[0m \u001b[0;34m=\u001b[0m \u001b[0mvalue\u001b[0m\u001b[0;34m\u001b[0m\u001b[0m\n\u001b[1;32m     13\u001b[0m         \u001b[0;32melse\u001b[0m\u001b[0;34m:\u001b[0m\u001b[0;34m\u001b[0m\u001b[0m\n\u001b[0;32m---> 14\u001b[0;31m             \u001b[0;32mraise\u001b[0m \u001b[0mValueError\u001b[0m\u001b[0;34m(\u001b[0m\u001b[0;34m\"Value must be integer\"\u001b[0m\u001b[0;34m)\u001b[0m\u001b[0;34m\u001b[0m\u001b[0m\n\u001b[0m\u001b[1;32m     15\u001b[0m \u001b[0;34m\u001b[0m\u001b[0m\n\u001b[1;32m     16\u001b[0m \u001b[0mbook\u001b[0m \u001b[0;34m=\u001b[0m \u001b[0mBook\u001b[0m\u001b[0;34m(\u001b[0m\u001b[0;34m)\u001b[0m\u001b[0;34m\u001b[0m\u001b[0m\n",
      "\u001b[0;31mValueError\u001b[0m: Value must be integer"
     ]
    }
   ],
   "source": [
    "class Book:\n",
    "    def __init__(self):\n",
    "        self._price = 1000\n",
    "    \n",
    "    @property  # 멤버변수 접근 시: 클래스.메서드\n",
    "    def price(self):\n",
    "        return self._price\n",
    "    \n",
    "    @price.setter  # 멤버변수 변경 시: 메서드.setter\n",
    "    def price(self, value):\n",
    "        if type(value) == int:\n",
    "            self._price = value\n",
    "        else:\n",
    "            raise ValueError(\"Value must be integer\")\n",
    "\n",
    "book = Book()\n",
    "print(book.price)\n",
    "book.price = 100\n",
    "print(book.price)\n",
    "book.price = \"100원\""
   ]
  },
  {
   "cell_type": "markdown",
   "metadata": {},
   "source": [
    "### 중복코드 제거에 decorator 활용\n",
    "- Book 클래스 속성값: title, isbn, price, quantity\n",
    "- 4개의 property, 4개의 setter 필요\n",
    "- ** Decorator 활용으로 중복 최소화 **"
   ]
  },
  {
   "cell_type": "markdown",
   "metadata": {},
   "source": [
    "```python\n",
    "@ensure(\"title\", is_non_empty_str)  # 5. 4까지의 결과값 전달, 최종적으로 4개 속성 추가\n",
    "@ensure(\"isbn\", is_valid_isbn)  # 4. 3까지의 결과값 전달\n",
    "@ensure(\"price\", is_in_range(1, 10000))  # 3. 2까지의 결과값 전달\n",
    "@ensure(\"quantity\", is_in_range(0, 1000000))  # 2. Book 클래스 객체가 인자로 전달(quantity 추가)\n",
    "class Book:  # 1. Book 클래스 객체 생성\n",
    "    def __init__(self, title, isbn, price, quantity):\n",
    "        self.title = title\n",
    "        self.isbn = isbn\n",
    "        self.price = price\n",
    "        self.quantity = quantity\n",
    "    @property  # 읽기전용 property(setter 없음.)\n",
    "    def value(self):\n",
    "        return self.price * self.quantity\n",
    "```"
   ]
  },
  {
   "cell_type": "markdown",
   "metadata": {},
   "source": [
    "- 검증 함수 정의"
   ]
  },
  {
   "cell_type": "code",
   "execution_count": 15,
   "metadata": {
    "collapsed": true
   },
   "outputs": [],
   "source": [
    "# Title 검증: 제목 공란여부 확인\n",
    "def is_non_empty_str(name, value):\n",
    "    if not isinstance(value, str):\n",
    "        raise ValueError(\"{} must be of type str\".format(name))\n",
    "    if not bool(value):\n",
    "        raise  ValueError(\"{} may not be empty\".format(name))"
   ]
  },
  {
   "cell_type": "code",
   "execution_count": 16,
   "metadata": {
    "collapsed": true
   },
   "outputs": [],
   "source": [
    "import numbers"
   ]
  },
  {
   "cell_type": "code",
   "execution_count": 17,
   "metadata": {
    "collapsed": true
   },
   "outputs": [],
   "source": [
    "# 값의 제한범위 포함여부 및 입력값 숫자여부(numbers.Number) 확인\n",
    "def is_in_range(minimum=None, maximum=None):\n",
    "    assert minimum is not None or maximum is not None  # 디버그 모드에서만 실행\n",
    "    def is_in_range(name, value):\n",
    "        # 숫자여부 검증\n",
    "        if not isinstance(value, numbers.Number):\n",
    "            raise ValueError(\"{} must be a number\".format(name))\n",
    "        # 최소값 조건 검증\n",
    "        if minimum is not None and value < minimum:\n",
    "            raise ValueError(\"{} {} is too small\".format(name, value))\n",
    "        # 최대값 조건 검증\n",
    "        if maximum is not None and value > maximum:\n",
    "            raise ValueError(\"{} {} is too big\".format(name, value))\n",
    "    return is_in_range"
   ]
  },
  {
   "cell_type": "markdown",
   "metadata": {},
   "source": [
    "- ensure 함수 정의"
   ]
  },
  {
   "cell_type": "code",
   "execution_count": 18,
   "metadata": {
    "collapsed": true
   },
   "outputs": [],
   "source": [
    "def ensure(name, validate, doc=None):  # property 이름, 검증 함수, docstring 받음.\n",
    "    def decorator(Class):  # Class를 유일한 인자로 받음.\n",
    "        \n",
    "        # self.title의 property값은 self.__title에 저장\n",
    "        privateName = \"__\" + name  # 외부접근이 불가능한 이름 생성\n",
    "        \n",
    "        def getter(self):  # 저장된 속성값 반환함수 생성\n",
    "            # getattr: 객체, 속성명을 인자로 받아 속성값 반환(없으면 오류발생)\n",
    "            return getattr(self, privateName)\n",
    "        \n",
    "        def setter(self, value):\n",
    "            # 전달값 검증\n",
    "            validate(name, value)\n",
    "            # setattr: 객체, 속성명, 값을 받아 객체에 값을 해당 속성으로 설정(없으면 새로생성)\n",
    "            setattr(self, privateName, value)\n",
    "            \n",
    "        setattr(Class, name, property(getter, setter, doc=doc))\n",
    "        return Class\n",
    "    return decorator"
   ]
  },
  {
   "cell_type": "markdown",
   "metadata": {},
   "source": [
    "### Decorator로 property 추가"
   ]
  },
  {
   "cell_type": "markdown",
   "metadata": {},
   "source": [
    "- 여러개의 decorator를 겹쳐 사용하고 싶지 않을 때, 클래스 내부에 속성을 삽입하여 가독성 향상\n",
    "\n",
    "```python\n",
    "@do_ensure  # 각 Ensure 인스턴스를 같은 이름의 property로 변경\n",
    "class Book:\n",
    "    title= Ensure(in_non_empty,str)  # 각 Ensure는 검증 함수 저장\n",
    "    isbn = Ensure(is_valid_isbn)\n",
    "    price = Ensure(is_in_range(1, 10000))\n",
    "    quantity = Ensure(is_in_range(0, 1000000))\n",
    "    \n",
    "    def __init__(self, title, isbn, price, quantity):\n",
    "        self.title = title\n",
    "        self.isbn = isbn\n",
    "        self.price = price\n",
    "        self.quantity = quantity\n",
    "       \n",
    "    @property\n",
    "    def value(self):\n",
    "        return self.price * self.quantity\n",
    "```"
   ]
  },
  {
   "cell_type": "markdown",
   "metadata": {},
   "source": [
    "- Ensure 클래스 정의"
   ]
  },
  {
   "cell_type": "code",
   "execution_count": 19,
   "metadata": {
    "collapsed": true
   },
   "outputs": [],
   "source": [
    "class Ensure:\n",
    "    def __init__(self, validate, doc=None):\n",
    "        self.validate = validate\n",
    "        self.doc = doc"
   ]
  },
  {
   "cell_type": "markdown",
   "metadata": {},
   "source": [
    "- do_ensure 정의"
   ]
  },
  {
   "cell_type": "code",
   "execution_count": 20,
   "metadata": {
    "collapsed": true
   },
   "outputs": [],
   "source": [
    "def do_ensure(Class):\n",
    "    def make_property(name, attribute):\n",
    "        privateName = \"__\" + name\n",
    "        def getter(self):\n",
    "            return getattr(self, privateName)\n",
    "        def setter(self, value):\n",
    "            attribute.validate(name, value)\n",
    "            setattr(self, privateName, value)\n",
    "        return property(getter, setter, doc=attribute.doc)\n",
    "    \n",
    "    print(Class.__dict__)\n",
    "    for name, attribute in Class.__dict__.items():\n",
    "        if isinstance(attribute, Ensure):\n",
    "            setattr(Class, name, make_property(name, attribute))\n",
    "    print(Class.__dict__)\n",
    "    return Class"
   ]
  },
  {
   "cell_type": "markdown",
   "metadata": {},
   "source": [
    "- Closure 미사용 시 바인딩 시점에 문제발생"
   ]
  },
  {
   "cell_type": "code",
   "execution_count": 29,
   "metadata": {
    "collapsed": true
   },
   "outputs": [],
   "source": [
    "def do_ensure(Class):\n",
    "    print(Class.__dict__)\n",
    "    for name, attribute in Class.__dict__.items():\n",
    "        if isinstance(attribute, Ensure):\n",
    "            privateName = \"__\" + name\n",
    "            def getter(self):\n",
    "                return getattr(self, privateName)\n",
    "            def setter(self, value):\n",
    "                attribute.validate(name, value)\n",
    "                setattr(self, privateName, value)\n",
    "            setattr(Class, name, property(getter, setter, doc=attribute.doc))\n",
    "    print(Class.__dict__)\n",
    "    return Class"
   ]
  },
  {
   "cell_type": "markdown",
   "metadata": {},
   "source": [
    "- 동작확인"
   ]
  },
  {
   "cell_type": "code",
   "execution_count": 21,
   "metadata": {},
   "outputs": [
    {
     "name": "stdout",
     "output_type": "stream",
     "text": [
      "{'__module__': '__main__', 'quantity': <__main__.Ensure object at 0x00000243BFD90FD0>, 'title': <__main__.Ensure object at 0x00000243BFD90B70>, '__init__': <function Book.__init__ at 0x00000243BFD5BAE8>, '__weakref__': <attribute '__weakref__' of 'Book' objects>, '__dict__': <attribute '__dict__' of 'Book' objects>, '__doc__': None, 'value': <property object at 0x00000243BFD7A228>, 'price': <__main__.Ensure object at 0x00000243BFD90EF0>}\n",
      "{'__module__': '__main__', 'quantity': <property object at 0x00000243BFE090E8>, 'title': <property object at 0x00000243BFE09188>, '__init__': <function Book.__init__ at 0x00000243BFD5BAE8>, '__weakref__': <attribute '__weakref__' of 'Book' objects>, '__dict__': <attribute '__dict__' of 'Book' objects>, '__doc__': None, 'value': <property object at 0x00000243BFD7A228>, 'price': <property object at 0x00000243BFE09A98>}\n"
     ]
    }
   ],
   "source": [
    "@do_ensure\n",
    "class Book:\n",
    "    title = Ensure(is_non_empty_str)\n",
    "    price = Ensure(is_in_range(1, 10000))\n",
    "    quantity = Ensure(is_in_range(0, 1000000))\n",
    "    \n",
    "    def __init__(self, title, price, quantity):\n",
    "        self.title = title\n",
    "        self.price = price\n",
    "        self.quantity = quantity\n",
    "       \n",
    "    @property\n",
    "    def value(self):\n",
    "        return self.price * self.quantity"
   ]
  },
  {
   "cell_type": "code",
   "execution_count": 36,
   "metadata": {
    "collapsed": true
   },
   "outputs": [],
   "source": [
    "book = Book(\"get out of my sight\", 1000, 1)"
   ]
  },
  {
   "cell_type": "code",
   "execution_count": 24,
   "metadata": {
    "scrolled": true
   },
   "outputs": [
    {
     "data": {
      "text/plain": [
       "{'__price': 1000, '__quantity': 1, '__title': 'get out of my sight'}"
      ]
     },
     "execution_count": 24,
     "metadata": {},
     "output_type": "execute_result"
    }
   ],
   "source": [
    "book.__dict__"
   ]
  },
  {
   "cell_type": "code",
   "execution_count": 25,
   "metadata": {
    "scrolled": true
   },
   "outputs": [
    {
     "ename": "ValueError",
     "evalue": "title must be of type str",
     "output_type": "error",
     "traceback": [
      "\u001b[0;31m---------------------------------------------------------------------------\u001b[0m",
      "\u001b[0;31mValueError\u001b[0m                                Traceback (most recent call last)",
      "\u001b[0;32m<ipython-input-25-0e930ab31269>\u001b[0m in \u001b[0;36m<module>\u001b[0;34m()\u001b[0m\n\u001b[0;32m----> 1\u001b[0;31m \u001b[0mbook\u001b[0m\u001b[0;34m.\u001b[0m\u001b[0mtitle\u001b[0m \u001b[0;34m=\u001b[0m \u001b[0;36m123\u001b[0m\u001b[0;34m\u001b[0m\u001b[0m\n\u001b[0m",
      "\u001b[0;32m<ipython-input-21-928fff0793b3>\u001b[0m in \u001b[0;36msetter\u001b[0;34m(self, value)\u001b[0m\n\u001b[1;32m      5\u001b[0m             \u001b[0;32mreturn\u001b[0m \u001b[0mgetattr\u001b[0m\u001b[0;34m(\u001b[0m\u001b[0mself\u001b[0m\u001b[0;34m,\u001b[0m \u001b[0mprivateName\u001b[0m\u001b[0;34m)\u001b[0m\u001b[0;34m\u001b[0m\u001b[0m\n\u001b[1;32m      6\u001b[0m         \u001b[0;32mdef\u001b[0m \u001b[0msetter\u001b[0m\u001b[0;34m(\u001b[0m\u001b[0mself\u001b[0m\u001b[0;34m,\u001b[0m \u001b[0mvalue\u001b[0m\u001b[0;34m)\u001b[0m\u001b[0;34m:\u001b[0m\u001b[0;34m\u001b[0m\u001b[0m\n\u001b[0;32m----> 7\u001b[0;31m             \u001b[0mattribute\u001b[0m\u001b[0;34m.\u001b[0m\u001b[0mvalidate\u001b[0m\u001b[0;34m(\u001b[0m\u001b[0mname\u001b[0m\u001b[0;34m,\u001b[0m \u001b[0mvalue\u001b[0m\u001b[0;34m)\u001b[0m\u001b[0;34m\u001b[0m\u001b[0m\n\u001b[0m\u001b[1;32m      8\u001b[0m             \u001b[0msetattr\u001b[0m\u001b[0;34m(\u001b[0m\u001b[0mself\u001b[0m\u001b[0;34m,\u001b[0m \u001b[0mprivateName\u001b[0m\u001b[0;34m,\u001b[0m \u001b[0mvalue\u001b[0m\u001b[0;34m)\u001b[0m\u001b[0;34m\u001b[0m\u001b[0m\n\u001b[1;32m      9\u001b[0m         \u001b[0;32mreturn\u001b[0m \u001b[0mproperty\u001b[0m\u001b[0;34m(\u001b[0m\u001b[0mgetter\u001b[0m\u001b[0;34m,\u001b[0m \u001b[0msetter\u001b[0m\u001b[0;34m,\u001b[0m \u001b[0mdoc\u001b[0m\u001b[0;34m=\u001b[0m\u001b[0mattribute\u001b[0m\u001b[0;34m.\u001b[0m\u001b[0mdoc\u001b[0m\u001b[0;34m)\u001b[0m\u001b[0;34m\u001b[0m\u001b[0m\n",
      "\u001b[0;32m<ipython-input-16-0c82f8b8b4b1>\u001b[0m in \u001b[0;36mis_non_empty_str\u001b[0;34m(name, value)\u001b[0m\n\u001b[1;32m      2\u001b[0m \u001b[0;32mdef\u001b[0m \u001b[0mis_non_empty_str\u001b[0m\u001b[0;34m(\u001b[0m\u001b[0mname\u001b[0m\u001b[0;34m,\u001b[0m \u001b[0mvalue\u001b[0m\u001b[0;34m)\u001b[0m\u001b[0;34m:\u001b[0m\u001b[0;34m\u001b[0m\u001b[0m\n\u001b[1;32m      3\u001b[0m     \u001b[0;32mif\u001b[0m \u001b[0;32mnot\u001b[0m \u001b[0misinstance\u001b[0m\u001b[0;34m(\u001b[0m\u001b[0mvalue\u001b[0m\u001b[0;34m,\u001b[0m \u001b[0mstr\u001b[0m\u001b[0;34m)\u001b[0m\u001b[0;34m:\u001b[0m\u001b[0;34m\u001b[0m\u001b[0m\n\u001b[0;32m----> 4\u001b[0;31m         \u001b[0;32mraise\u001b[0m \u001b[0mValueError\u001b[0m\u001b[0;34m(\u001b[0m\u001b[0;34m\"{} must be of type str\"\u001b[0m\u001b[0;34m.\u001b[0m\u001b[0mformat\u001b[0m\u001b[0;34m(\u001b[0m\u001b[0mname\u001b[0m\u001b[0;34m)\u001b[0m\u001b[0;34m)\u001b[0m\u001b[0;34m\u001b[0m\u001b[0m\n\u001b[0m\u001b[1;32m      5\u001b[0m     \u001b[0;32mif\u001b[0m \u001b[0;32mnot\u001b[0m \u001b[0mbool\u001b[0m\u001b[0;34m(\u001b[0m\u001b[0mvalue\u001b[0m\u001b[0;34m)\u001b[0m\u001b[0;34m:\u001b[0m\u001b[0;34m\u001b[0m\u001b[0m\n\u001b[1;32m      6\u001b[0m         \u001b[0;32mraise\u001b[0m  \u001b[0mValueError\u001b[0m\u001b[0;34m(\u001b[0m\u001b[0;34m\"{} may not be empty\"\u001b[0m\u001b[0;34m.\u001b[0m\u001b[0mformat\u001b[0m\u001b[0;34m(\u001b[0m\u001b[0mname\u001b[0m\u001b[0;34m)\u001b[0m\u001b[0;34m)\u001b[0m\u001b[0;34m\u001b[0m\u001b[0m\n",
      "\u001b[0;31mValueError\u001b[0m: title must be of type str"
     ]
    }
   ],
   "source": [
    "book.title = 123"
   ]
  },
  {
   "cell_type": "markdown",
   "metadata": {},
   "source": [
    "### 클래스 decorator를 상속 대신 활용\n",
    "- 상속 시 데이터와 메서드의 값을 변경하지 않을 경우"
   ]
  },
  {
   "cell_type": "code",
   "execution_count": null,
   "metadata": {
    "collapsed": true
   },
   "outputs": [],
   "source": [
    "class Mediated:\n",
    "\n",
    "    def __init__(self):\n",
    "        self.mediator = None\n",
    "\n",
    "\n",
    "    def on_change(self):\n",
    "        if self.mediator is not None:\n",
    "            self.mediator.on_change(self)"
   ]
  },
  {
   "cell_type": "code",
   "execution_count": null,
   "metadata": {
    "collapsed": true
   },
   "outputs": [],
   "source": [
    "class Button(Mediated):\n",
    "\n",
    "    def __init__(self, text=\"\"):\n",
    "        super().__init__()\n",
    "        self.enabled = True\n",
    "        self.text = text\n",
    "\n",
    "    def click(self):\n",
    "        if self.enabled:\n",
    "            self.on_change()\n",
    "\n",
    "    def __str__(self):\n",
    "        return \"Button({!r}) {}\".format(self.text,\n",
    "                \"enabled\" if self.enabled else \"disabled\")\n",
    "\n",
    "\n",
    "class Text(Mediated):\n",
    "\n",
    "    def __init__(self, text=\"\"):\n",
    "        super().__init__()\n",
    "        self.__text = text\n",
    "    \n",
    "    @property\n",
    "    def text(self):\n",
    "        return self.__text\n",
    "\n",
    "    @text.setter\n",
    "    def text(self, text):\n",
    "        if self.text != text:\n",
    "            self.__text = text\n",
    "            self.on_change()\n",
    "\n",
    "\n",
    "    def __str__(self):\n",
    "        return \"Text({!r})\".format(self.text)"
   ]
  },
  {
   "cell_type": "code",
   "execution_count": null,
   "metadata": {
    "collapsed": true
   },
   "outputs": [],
   "source": [
    "def mediated(Class):\n",
    "    setattr(Class, \"mediator\", None)\n",
    "    def on_change(self):\n",
    "        if self.mediator is not None:\n",
    "            self.mediator.on_change(self)\n",
    "    setattr(Class, \"on_change\", on_change)\n",
    "    return Class"
   ]
  },
  {
   "cell_type": "code",
   "execution_count": null,
   "metadata": {
    "collapsed": true
   },
   "outputs": [],
   "source": [
    "@mediated\n",
    "class Button:\n",
    "\n",
    "    def __init__(self, text=\"\"):\n",
    "        super().__init__()\n",
    "        self.enabled = True\n",
    "        self.text = text\n",
    "\n",
    "    def click(self):\n",
    "        if self.enabled:\n",
    "            self.on_change()\n",
    "\n",
    "    def __str__(self):\n",
    "        return \"Button({!r}) {}\".format(self.text,\n",
    "                \"enabled\" if self.enabled else \"disabled\")\n",
    "\n",
    "\n",
    "@mediated\n",
    "class Text:\n",
    "\n",
    "    def __init__(self, text=\"\"):\n",
    "        super().__init__()\n",
    "        self.__text = text\n",
    "\n",
    "    @property\n",
    "    def text(self):\n",
    "        return self.__text\n",
    "\n",
    "    @text.setter\n",
    "    def text(self, text):\n",
    "        if self.text != text:\n",
    "            self.__text = text\n",
    "            self.on_change()\n",
    "\n",
    "    def __str__(self):\n",
    "        return \"Text({!r})\".format(self.text)"
   ]
  }
 ],
 "metadata": {
  "kernelspec": {
   "display_name": "Python [default]",
   "language": "python",
   "name": "python3"
  },
  "language_info": {
   "codemirror_mode": {
    "name": "ipython",
    "version": 3
   },
   "file_extension": ".py",
   "mimetype": "text/x-python",
   "name": "python",
   "nbconvert_exporter": "python",
   "pygments_lexer": "ipython3",
   "version": "3.5.3"
  }
 },
 "nbformat": 4,
 "nbformat_minor": 2
}
