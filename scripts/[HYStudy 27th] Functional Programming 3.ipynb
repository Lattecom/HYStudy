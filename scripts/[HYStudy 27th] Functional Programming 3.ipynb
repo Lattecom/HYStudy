{
 "cells": [
  {
   "cell_type": "markdown",
   "metadata": {},
   "source": [
    "# Functional Programming"
   ]
  },
  {
   "cell_type": "markdown",
   "metadata": {},
   "source": [
    "## 연습문제 2.2\n",
    "\n",
    "Array[A]가 주어진 비교 함수에 의거해서 정렬되어 있는지 점검하는 isSorted함수를 구현하라.\n",
    "서명은 다음과 같다.\n",
    "```scala\n",
    "def isSorted[A](as: Array[A], ordered: (A,A) => Boolean): Boolean\n",
    "```"
   ]
  },
  {
   "cell_type": "code",
   "execution_count": 1,
   "metadata": {
    "collapsed": false
   },
   "outputs": [
    {
     "data": {
      "text/plain": [
       "defined \u001b[32mfunction\u001b[39m \u001b[36misSorted\u001b[39m"
      ]
     },
     "execution_count": 1,
     "metadata": {},
     "output_type": "execute_result"
    }
   ],
   "source": [
    "def isSorted[A](as: Array[A], ordered: (A, A) => Boolean): Boolean = {\n",
    "    def loop(n: Int): Boolean =\n",
    "        if (n == as.length -1) true\n",
    "        else if (ordered(as(n), as(n+1))) loop(n+1)\n",
    "        else false\n",
    "    loop(0)\n",
    "}"
   ]
  },
  {
   "cell_type": "code",
   "execution_count": 2,
   "metadata": {
    "collapsed": false
   },
   "outputs": [
    {
     "data": {
      "text/plain": [
       "defined \u001b[32mfunction\u001b[39m \u001b[36mbigger\u001b[39m"
      ]
     },
     "execution_count": 2,
     "metadata": {},
     "output_type": "execute_result"
    }
   ],
   "source": [
    "def bigger(a: Int, b: Int): Boolean = \n",
    "    a < b"
   ]
  },
  {
   "cell_type": "code",
   "execution_count": 3,
   "metadata": {
    "collapsed": false
   },
   "outputs": [
    {
     "data": {
      "text/plain": [
       "\u001b[36mres2\u001b[39m: \u001b[32mBoolean\u001b[39m = \u001b[32mfalse\u001b[39m"
      ]
     },
     "execution_count": 3,
     "metadata": {},
     "output_type": "execute_result"
    }
   ],
   "source": [
    "isSorted(Array(1, 3, 2), bigger)"
   ]
  },
  {
   "cell_type": "markdown",
   "metadata": {},
   "source": [
    "---\n",
    "## 익명 함수, 함수 리터럴\n",
    "고차 함수를 호출할 때, 함수를 정의후에 호출하는 것보다 익명 함수를 사용하여 호출하는 것이 편리한 경우가 많음.\n",
    "\n",
    "'=>' 왼쪽에 괄호안에 파라미터 정의를, '=>' 오른쪽에 함수 본문을 작성"
   ]
  },
  {
   "cell_type": "code",
   "execution_count": 4,
   "metadata": {
    "collapsed": false
   },
   "outputs": [
    {
     "data": {
      "text/plain": [
       "\u001b[36mres3\u001b[39m: \u001b[32mInt\u001b[39m => \u001b[32mBoolean\u001b[39m = <function1>"
      ]
     },
     "execution_count": 4,
     "metadata": {},
     "output_type": "execute_result"
    }
   ],
   "source": [
    "// 입력값이 9와 같은지 검사하는 익명함수\n",
    "(x: Int) => x == 9  // REPL에서 결과로 함수 타입과 함께\n",
    "                    // = 우측에 <function1> 으로 함수의 인수 갯수를 나타냄"
   ]
  },
  {
   "cell_type": "code",
   "execution_count": 5,
   "metadata": {
    "collapsed": false
   },
   "outputs": [
    {
     "data": {
      "text/plain": [
       "\u001b[36mres4\u001b[39m: (\u001b[32mInt\u001b[39m, \u001b[32mInt\u001b[39m) => \u001b[32mBoolean\u001b[39m = <function2>"
      ]
     },
     "execution_count": 5,
     "metadata": {},
     "output_type": "execute_result"
    }
   ],
   "source": [
    "(a: Int, b: Int) => a == b"
   ]
  },
  {
   "cell_type": "code",
   "execution_count": 6,
   "metadata": {
    "collapsed": false
   },
   "outputs": [
    {
     "data": {
      "text/plain": [
       "\u001b[36mres5\u001b[39m: \u001b[32mBoolean\u001b[39m = \u001b[32mtrue\u001b[39m"
      ]
     },
     "execution_count": 6,
     "metadata": {},
     "output_type": "execute_result"
    }
   ],
   "source": [
    "isSorted(Array(7,3,2,1), (a: Int, b: Int) => a > b)"
   ]
  },
  {
   "cell_type": "markdown",
   "metadata": {},
   "source": [
    "---\n",
    "## 형식에서 도출된 구현\n",
    "형식이 추상화 되면 구현 방법이 제한됨. Int에 대한 작업은 \\+, *, 제곱 등 다양한 연산들을 할 수 있지만, 임의의 타입 A에 대해서는 할 수 있는 작업이 제한되기 때문에 형식으로 부터 특정한 구현을 도출할 수 있음.\n",
    "\n",
    "```scala\n",
    "def partial1[A,B,C](a: A, f: (A, B) => C): B => C\n",
    "```"
   ]
  },
  {
   "cell_type": "code",
   "execution_count": 7,
   "metadata": {
    "collapsed": false
   },
   "outputs": [
    {
     "data": {
      "text/plain": [
       "defined \u001b[32mfunction\u001b[39m \u001b[36mpartial1\u001b[39m\n",
       "defined \u001b[32mfunction\u001b[39m \u001b[36mpartial1_\u001b[39m"
      ]
     },
     "execution_count": 7,
     "metadata": {},
     "output_type": "execute_result"
    }
   ],
   "source": [
    "def partial1[A,B,C](a: A, f: (A, B) => C): B => C =\n",
    "    (b: B) => f(a, b)\n",
    "// 아래의 구현은 같은 스칼라의 타입추론을 이용하여 조금더 간략화한 버전\n",
    "def partial1_[A,B,C](a: A, f: (A, B) => C): B => C =\n",
    "    f(a, _)"
   ]
  },
  {
   "cell_type": "markdown",
   "metadata": {},
   "source": [
    "## 연습문제 2.3\n",
    "\n",
    "또 다른 예로, 인수가 두 개인 함수 f를 인수 하나를 받고 그것으로 f를 부분 적용하는 함수로 변환하는 커링(currying)을 살펴보자. 이번에도 컴파일 되는 구현은 단 한 가지이다. 그러한 구현을 작성하라.\n",
    "```scala\n",
    "def curry[A,B,C](f: (A, B) => C): A => (B => C)\n",
    "```"
   ]
  },
  {
   "cell_type": "code",
   "execution_count": 8,
   "metadata": {
    "collapsed": false
   },
   "outputs": [
    {
     "data": {
      "text/plain": [
       "defined \u001b[32mfunction\u001b[39m \u001b[36mcurry\u001b[39m\n",
       "defined \u001b[32mfunction\u001b[39m \u001b[36mcurry2\u001b[39m\n",
       "defined \u001b[32mfunction\u001b[39m \u001b[36mcurry3\u001b[39m"
      ]
     },
     "execution_count": 8,
     "metadata": {},
     "output_type": "execute_result"
    }
   ],
   "source": [
    "def curry[A,B,C](f: (A, B) => C): A => (B => C) = {\n",
    "    (a: A) => (b: B) => f(a, b)\n",
    "}\n",
    "// 아래의 구현은 같은 스칼라의 타입추론을 이용하여 조금더 간략화한 버전\n",
    "def curry2[A,B,C](f: (A, B) => C): A => (B => C) = {\n",
    "    (a: A) => f(a, _: B) \n",
    "}\n",
    "def curry3[A,B,C](f: (A, B) => C): A => (B => C) = {\n",
    "    a => f(a, _: B)\n",
    "}"
   ]
  },
  {
   "cell_type": "markdown",
   "metadata": {},
   "source": [
    "## 연습문제 2.4\n",
    "\n",
    "curry의 변환을 역으로 수행하는 고차 함수 uncurry를 구현하라. =>는 오른쪽으로 묶이므로, A => (B => C)를 A => B => C라고 표기할 수 있음을 주의할 것.\n",
    "```scala\n",
    "def uncurry[A,B,C](f: A => B => C): (A, B) => C\n",
    "```"
   ]
  },
  {
   "cell_type": "code",
   "execution_count": 9,
   "metadata": {
    "collapsed": false
   },
   "outputs": [
    {
     "data": {
      "text/plain": [
       "defined \u001b[32mfunction\u001b[39m \u001b[36muncurry\u001b[39m\n",
       "defined \u001b[32mfunction\u001b[39m \u001b[36muncurry2\u001b[39m\n",
       "defined \u001b[32mfunction\u001b[39m \u001b[36muncurry3\u001b[39m"
      ]
     },
     "execution_count": 9,
     "metadata": {},
     "output_type": "execute_result"
    }
   ],
   "source": [
    "def uncurry[A,B,C](f: A => B => C): (A, B) => C =\n",
    "    (a: A, b: B) => f(a)(b)\n",
    "\n",
    "// 아래의 구현은 같은 타입추론을 이용하여 조금더 간략화한 버전\n",
    "def uncurry2[A,B,C](f: A => B => C): (A, B) => C =\n",
    "    (a, b) => f(a)(b)\n",
    "def uncurry3[A,B,C](f: A => B => C): (A, B) => C =\n",
    "    f(_: A)(_: B)"
   ]
  },
  {
   "cell_type": "markdown",
   "metadata": {},
   "source": [
    "## 연습문제 2.5\n",
    "\n",
    "두 함수를 합성하는 고차 함수를 구현하라.\n",
    "```scala\n",
    "def compose[A,B,C](f: B => C, g: A => B): A => C\n",
    "```"
   ]
  },
  {
   "cell_type": "code",
   "execution_count": 10,
   "metadata": {
    "collapsed": false
   },
   "outputs": [
    {
     "data": {
      "text/plain": [
       "defined \u001b[32mfunction\u001b[39m \u001b[36mcompose\u001b[39m\n",
       "defined \u001b[32mfunction\u001b[39m \u001b[36mcompose2\u001b[39m"
      ]
     },
     "execution_count": 10,
     "metadata": {},
     "output_type": "execute_result"
    }
   ],
   "source": [
    "def compose[A,B,C](f: B => C, g: A => B): A => C =\n",
    "    (a: A) => f(g(a))\n",
    "// 아래의 구현은 같은 타입추론을 이용하여 조금더 간략화한 버전\n",
    "def compose2[A,B,C](f: B => C, g: A => B): A => C =\n",
    "    (a) => f(g(a))"
   ]
  },
  {
   "cell_type": "code",
   "execution_count": null,
   "metadata": {
    "collapsed": true
   },
   "outputs": [],
   "source": []
  }
 ],
 "metadata": {
  "kernelspec": {
   "display_name": "Scala",
   "language": "scala",
   "name": "scala"
  },
  "language_info": {
   "codemirror_mode": "text/x-scala",
   "file_extension": ".scala",
   "mimetype": "text/x-scala",
   "name": "scala211",
   "nbconvert_exporter": "script",
   "pygments_lexer": "scala",
   "version": "2.11.8"
  }
 },
 "nbformat": 4,
 "nbformat_minor": 2
}
