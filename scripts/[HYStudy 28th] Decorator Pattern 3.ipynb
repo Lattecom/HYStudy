{
 "cells": [
  {
   "cell_type": "markdown",
   "metadata": {},
   "source": [
    "# Decorator Pattern 3"
   ]
  },
  {
   "cell_type": "code",
   "execution_count": null,
   "metadata": {
    "collapsed": true
   },
   "outputs": [],
   "source": [
    "class DecoClass:\n",
    "    def __init__(self, function):\n",
    "        self.function = function\n",
    "        print(\"DecoClass '__init__' function has been called.\")\n",
    "        \n",
    "    def __call__(self, *args, **kwargs):\n",
    "        print(\"DecoClass has been called.\")\n",
    "        return self.function(*args, **kwargs)"
   ]
  },
  {
   "cell_type": "code",
   "execution_count": null,
   "metadata": {},
   "outputs": [],
   "source": [
    "@DecoClass\n",
    "def func_1():\n",
    "    print(\"'func_1' has been called.\")"
   ]
  },
  {
   "cell_type": "code",
   "execution_count": null,
   "metadata": {
    "scrolled": true
   },
   "outputs": [],
   "source": [
    "func_1()"
   ]
  },
  {
   "cell_type": "markdown",
   "metadata": {},
   "source": [
    "### staticmethod"
   ]
  },
  {
   "cell_type": "code",
   "execution_count": null,
   "metadata": {
    "collapsed": true
   },
   "outputs": [],
   "source": [
    "class TestClass_1:\n",
    "    name = \"Test_1\"\n",
    "    \n",
    "    @staticmethod\n",
    "    def get_name():\n",
    "        print(TestClass_1.name)"
   ]
  },
  {
   "cell_type": "code",
   "execution_count": null,
   "metadata": {
    "scrolled": true
   },
   "outputs": [],
   "source": [
    "# 클래스에서 호출\n",
    "TestClass_1.get_name()"
   ]
  },
  {
   "cell_type": "code",
   "execution_count": null,
   "metadata": {
    "collapsed": true
   },
   "outputs": [],
   "source": [
    "class TestSub_1(TestClass_1):\n",
    "    name = \"TestSub_1\""
   ]
  },
  {
   "cell_type": "code",
   "execution_count": null,
   "metadata": {},
   "outputs": [],
   "source": [
    "# 부모 클래스의 속성 반환\n",
    "TestSub_1.get_name()"
   ]
  },
  {
   "cell_type": "code",
   "execution_count": null,
   "metadata": {
    "collapsed": true
   },
   "outputs": [],
   "source": [
    "class StaticMethod(object):\n",
    "    \"Emulate PyStaticMethod_Type() in Objects/funcobject.c\"\n",
    "\n",
    "    def __init__(self, f):\n",
    "        self.f = f\n",
    "\n",
    "    def __get__(self, obj, objtype=None):\n",
    "        return self.f"
   ]
  },
  {
   "cell_type": "markdown",
   "metadata": {},
   "source": [
    "> **루시아누 하말류(전문가를 위한 파이썬)**\n",
    "\n",
    ">@classmethod 는 쓰임새가 많은 게 확실하지만, @staticmethod 는 사용해야하는 이유를 잘 모르겠다.\n",
    "클래스와 함께 작동하지 않는 함수를 정의하려면, 단지 함수를 모듈에 정의하면 된다. 아마 함수가 클래스를 건드리지는 않지만, 그 클래스와 밀접히 연관되어 있어서 클래스 코드 가까운 곳에 두고 싶을 수는 있을 것이다. 그런 경우에는 클래스의 바로 앞이나 뒤에서 함수를 정의하면 된다."
   ]
  },
  {
   "cell_type": "markdown",
   "metadata": {},
   "source": [
    "### classmethod"
   ]
  },
  {
   "cell_type": "code",
   "execution_count": null,
   "metadata": {
    "collapsed": true
   },
   "outputs": [],
   "source": [
    "class TestClass_2:\n",
    "    name = \"Test_2\"\n",
    "    \n",
    "    @classmethod\n",
    "    def get_name(cls):\n",
    "        print(cls.name)"
   ]
  },
  {
   "cell_type": "code",
   "execution_count": null,
   "metadata": {},
   "outputs": [],
   "source": [
    "TestClass_2.get_name()"
   ]
  },
  {
   "cell_type": "code",
   "execution_count": null,
   "metadata": {
    "collapsed": true
   },
   "outputs": [],
   "source": [
    "class TestSub_2(TestClass_2):\n",
    "    name = \"TestSub_2\""
   ]
  },
  {
   "cell_type": "code",
   "execution_count": null,
   "metadata": {},
   "outputs": [],
   "source": [
    "test = TestSub_2()\n",
    "test.get_name()"
   ]
  },
  {
   "cell_type": "code",
   "execution_count": null,
   "metadata": {},
   "outputs": [],
   "source": [
    "TestSub_2.get_name()"
   ]
  },
  {
   "cell_type": "code",
   "execution_count": null,
   "metadata": {
    "collapsed": true
   },
   "outputs": [],
   "source": [
    "class ClassMethod(object):\n",
    "    \"Emulate PyClassMethod_Type() in Objects/funcobject.c\"\n",
    "\n",
    "    def __init__(self, f):\n",
    "        self.f = f\n",
    "\n",
    "    def __get__(self, obj, klass=None):\n",
    "        print(\"ClassMethod\")\n",
    "        print(klass)\n",
    "        print(obj)\n",
    "        if klass is None:\n",
    "            klass = type(obj)\n",
    "        print(klass)\n",
    "        def newfunc(*args):\n",
    "            print(self.f)\n",
    "            return self.f(klass, *args)\n",
    "        return newfunc"
   ]
  },
  {
   "cell_type": "markdown",
   "metadata": {},
   "source": [
    "---\n",
    "## Practical example\n",
    "- Ref. 파이썬 - OOP Part 4. 클래스 메소드와 스태틱 메소드 (School of Web)"
   ]
  },
  {
   "cell_type": "markdown",
   "metadata": {},
   "source": [
    "### 1. classmethod를 활용한 기능추가"
   ]
  },
  {
   "cell_type": "code",
   "execution_count": null,
   "metadata": {
    "collapsed": true
   },
   "outputs": [],
   "source": [
    "class Employee:\n",
    "    \n",
    "    raise_amount = 1.1  #1 연봉 인상율 클래스 변수\n",
    "    \n",
    "    def __init__(self, first, last, pay):\n",
    "        self.first = first\n",
    "        self.last = last\n",
    "        self.pay = pay\n",
    "        self.email = first.lower() + '.' + last.lower() + '@schoolofweb.net'\n",
    "    \n",
    "    def apply_raise(self):\n",
    "        self.pay = int(self.pay * self.raise_amount)\n",
    "        \n",
    "    def full_name(self):\n",
    "        return '{} {}'.format(self.first, self.last)\n",
    "        \n",
    "    def get_pay(self):\n",
    "        return '현재 \"{}\"의 연봉은 \"{}\"입니다.'.format(self.full_name(), self.pay)\n",
    "\n",
    "emp_1 = Employee('Sanghee', 'Lee', 50000)\n",
    "emp_2 = Employee('Minjung', 'Kim', 60000)"
   ]
  },
  {
   "cell_type": "markdown",
   "metadata": {},
   "source": [
    "#### 모든 인스턴스에 대해 연봉인상률의 일률적 적용"
   ]
  },
  {
   "cell_type": "code",
   "execution_count": null,
   "metadata": {
    "scrolled": true
   },
   "outputs": [],
   "source": [
    "# 연봉 인상 전\n",
    "print(emp_1.get_pay())\n",
    "print(emp_2.get_pay())\n",
    "\n",
    "# 연봉 인상\n",
    "emp_1.apply_raise()\n",
    "emp_2.apply_raise()\n",
    "\n",
    "# 연봉 인상 후\n",
    "print(emp_1.get_pay())\n",
    "print(emp_2.get_pay())"
   ]
  },
  {
   "cell_type": "markdown",
   "metadata": {},
   "source": [
    "#### 클래스 변수의 직접수정 없이 classmethod를 활용하여 연봉인상률 변경 및 인상률 인자 검증기능 추가"
   ]
  },
  {
   "cell_type": "code",
   "execution_count": null,
   "metadata": {
    "collapsed": true
   },
   "outputs": [],
   "source": [
    "class Employee:\n",
    "    \n",
    "    raise_amount = 1.1  #1 연봉 인상율 클래스 변수\n",
    "    \n",
    "    def __init__(self, first, last, pay):\n",
    "        self.first = first\n",
    "        self.last = last\n",
    "        self.pay = pay\n",
    "        self.email = first.lower() + '.' + last.lower() + '@schoolofweb.net'\n",
    "    \n",
    "    def apply_raise(self):\n",
    "        self.pay = int(self.pay * self.raise_amount)\n",
    "        \n",
    "    def full_name(self):\n",
    "        return '{} {}'.format(self.first, self.last)\n",
    "        \n",
    "    def get_pay(self):\n",
    "        return '현재 \"{}\"의 연봉은 \"{}\"입니다.'.format(self.full_name(), self.pay)\n",
    "        \n",
    "    #1 클래스 메소드 데코레이터를 사용하여 클래스 메소드 정의\n",
    "    @classmethod\n",
    "    def change_raise_amount(cls, amount):\n",
    "        #2 인상율이 \"1\" 보다 작으면 재입력 요청\n",
    "        while amount < 1:\n",
    "            print('[경고] 인상율은 \"1\"보다 작을 수 없습니다.')\n",
    "            amount = input('[입력] 인상율을 다시 입력하여 주십시오.\\n=> ')\n",
    "            amount = float(amount)\n",
    "        cls.raise_amount = amount\n",
    "        print('인상율 \"{}\"가 적용 되었습니다.'.format(amount))\n",
    "\n",
    "emp_1 = Employee('Sanghee', 'Lee', 50000)\n",
    "emp_2 = Employee('Minjung', 'Kim', 60000)"
   ]
  },
  {
   "cell_type": "code",
   "execution_count": null,
   "metadata": {},
   "outputs": [],
   "source": [
    "# 연봉 인상 전\n",
    "print(emp_1.get_pay())\n",
    "print(emp_2.get_pay())\n",
    "\n",
    "# 연봉 인상율 변경\n",
    "Employee.change_raise_amount(0.9)\n",
    "\n",
    "# 연봉 인상\n",
    "emp_1.apply_raise()\n",
    "emp_2.apply_raise()\n",
    "\n",
    "# 연봉 인상 후\n",
    "print(emp_1.get_pay())\n",
    "print(emp_2.get_pay())"
   ]
  },
  {
   "cell_type": "markdown",
   "metadata": {},
   "source": [
    "### 2. classmethod를 대체 생성자로 활용"
   ]
  },
  {
   "cell_type": "markdown",
   "metadata": {},
   "source": [
    "#### 주민등록번호에서 성별 및 생년월일 추출 예시"
   ]
  },
  {
   "cell_type": "code",
   "execution_count": null,
   "metadata": {
    "collapsed": true
   },
   "outputs": [],
   "source": [
    "class Person:\n",
    "    def __init__(self, year, month, day, sex):\n",
    "        self.year = year\n",
    "        self.month = month\n",
    "        self.day = day\n",
    "        self.sex = sex\n",
    "        \n",
    "    def __str__(self):\n",
    "        return '{}년 {}월 {}일생 {}입니다.'.format(self.year, self.month, self.day, self.sex)\n",
    "    \n",
    "ssn_1 = '900829-1034356'\n",
    "ssn_2 = '051224-4061569'\n",
    "\n",
    "def ssn_parser(ssn):\n",
    "        front, back = ssn.split('-')\n",
    "        sex = back[0]\n",
    "        \n",
    "        if sex == '1' or sex == '2':\n",
    "            year = '19' + front[:2]\n",
    "        else:\n",
    "            year = '20' + front[:2]\n",
    "            \n",
    "        if (int(sex) % 2) == 0:\n",
    "            sex = '여성'\n",
    "        else:\n",
    "            sex = '남성'\n",
    "            \n",
    "        month = front[2:4]\n",
    "        day = front[4:6]\n",
    "        \n",
    "        return year, month, day, sex"
   ]
  },
  {
   "cell_type": "code",
   "execution_count": null,
   "metadata": {},
   "outputs": [],
   "source": [
    "person_1 = Person(*ssn_parser(ssn_1))\n",
    "print(person_1)\n",
    "\n",
    "person_2 = Person(*ssn_parser(ssn_2))\n",
    "print(person_2)"
   ]
  },
  {
   "cell_type": "markdown",
   "metadata": {},
   "source": [
    "### classmethod를 활용하여 ssn_parser를 클래스 내부에서 정의"
   ]
  },
  {
   "cell_type": "code",
   "execution_count": null,
   "metadata": {
    "collapsed": true
   },
   "outputs": [],
   "source": [
    "class Person:\n",
    "    def __init__(self, year, month, day, sex):\n",
    "        self.year = year\n",
    "        self.month = month\n",
    "        self.day = day\n",
    "        self.sex = sex\n",
    "        \n",
    "    def __str__(self):\n",
    "        return '{}년 {}월 {}일생 {}입니다.'.format(self.year, self.month, self.day, self.sex)\n",
    "    \n",
    "    @classmethod\n",
    "    def ssn_constructor(cls, ssn):\n",
    "        front, back = ssn.split('-')\n",
    "        sex = back[0]\n",
    "        \n",
    "        if sex == '1' or sex == '2':\n",
    "            year = '19' + front[:2]\n",
    "        else:\n",
    "            year = '20' + front[:2]\n",
    "            \n",
    "        if (int(sex) % 2) == 0:\n",
    "            sex = '여성'\n",
    "        else:\n",
    "            sex = '남성'\n",
    "            \n",
    "        month = front[2:4]\n",
    "        day = front[4:6]\n",
    "        \n",
    "        return cls(year, month, day, sex)\n",
    "    \n",
    "    @staticmethod\n",
    "    def is_work_day(day):\n",
    "        # weekday() 함수의 리턴값은\n",
    "        # 월: 0, 화: 1, 수: 2, 목: 3, 금: 4, 토: 5, 일: 6\n",
    "        if day.weekday() == 5 or day.weekday() == 6:\n",
    "            return False\n",
    "        return True\n",
    "    \n",
    "ssn_1 = '900829-1034356'\n",
    "ssn_2 = '051224-4061569'"
   ]
  },
  {
   "cell_type": "code",
   "execution_count": null,
   "metadata": {
    "scrolled": true
   },
   "outputs": [],
   "source": [
    "person_1 = Person.ssn_constructor(ssn_1)\n",
    "print(person_1)\n",
    "\n",
    "person_2 = Person.ssn_constructor(ssn_2)\n",
    "print(person_2)"
   ]
  },
  {
   "cell_type": "markdown",
   "metadata": {},
   "source": [
    "### staticmethod의 활용\n",
    "- 클래스와 연관성이 있는 함수를 클래스 안에서 정의\n",
    "- 클래스와 클래스의 인스턴스에서 공유\n",
    "- 클래스나 인스턴스를 통해서 호출 가능"
   ]
  },
  {
   "cell_type": "code",
   "execution_count": null,
   "metadata": {},
   "outputs": [],
   "source": [
    "import datetime\n",
    "# 일요일 날짜 오브젝트 생성\n",
    "my_date = datetime.date(2016, 10, 9)\n",
    "\n",
    "# 클래스를 통하여 스태틱 메소드 호출\n",
    "print(Person.is_work_day(my_date))\n",
    "# 인스턴스를 통하여 스태틱 메소드 호출\n",
    "print(person_1.is_work_day(my_date))"
   ]
  }
 ],
 "metadata": {
  "kernelspec": {
   "display_name": "Python [default]",
   "language": "python",
   "name": "python3"
  },
  "language_info": {
   "codemirror_mode": {
    "name": "ipython",
    "version": 3
   },
   "file_extension": ".py",
   "mimetype": "text/x-python",
   "name": "python",
   "nbconvert_exporter": "python",
   "pygments_lexer": "ipython3",
   "version": "3.5.3"
  }
 },
 "nbformat": 4,
 "nbformat_minor": 2
}
