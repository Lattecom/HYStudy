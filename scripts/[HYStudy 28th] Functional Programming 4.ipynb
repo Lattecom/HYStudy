{
 "cells": [
  {
   "cell_type": "markdown",
   "metadata": {},
   "source": [
    "# Functional Data-Structure\n",
    "- Definition of Functional Data-Structure\n",
    "- Pattern matching"
   ]
  },
  {
   "cell_type": "markdown",
   "metadata": {},
   "source": [
    "## Definition of Functional Data-Structure\n",
    "오직 순수 함수만으로 조작되는 자료구조. 순수 함수는 자료를 그 자리에서 변경하거나 기타 side effect를 수행하는 일이 없어야 함. 따라서 함수적 자료구조는 정의에 의해 immutable함."
   ]
  },
  {
   "cell_type": "code",
   "execution_count": 1,
   "metadata": {
    "collapsed": false
   },
   "outputs": [
    {
     "data": {
      "text/plain": [
       "defined \u001b[32mtrait\u001b[39m \u001b[36mList\u001b[39m\n",
       "defined \u001b[32mobject\u001b[39m \u001b[36mNil\u001b[39m\n",
       "defined \u001b[32mclass\u001b[39m \u001b[36mCons\u001b[39m\n",
       "defined \u001b[32mobject\u001b[39m \u001b[36mList\u001b[39m"
      ]
     },
     "execution_count": 1,
     "metadata": {},
     "output_type": "execute_result"
    }
   ],
   "source": [
    "/* \n",
    "    Data Type(자료형식)을 도입할 때는 trait(특질) 키워드를 사용 \n",
    "    trait는 일종의 추상 인터페이스, 필요하면 메서드도 구현할 수 있음.\n",
    "    sealed 키워드는 이 trait의 모든 구현이 반드시 이 파일 안에 정의되어 있어야함을 뜻함.\n",
    "*/\n",
    "\n",
    "// Singly linked list\n",
    "sealed trait List[+A]  // 형식 A에 대해 매개변수화된 List자료 형식, \n",
    "                       // A앞에 있는 '+'는 가변 지정자(variance annotaion). '+'가 붙으면 공변(covariant)\n",
    "                       // '+'가 붙어 있지 않으면 불변(invariant)\n",
    "case object Nil extends List[Nothing]  // 빈 리스트를 나타내는 List 자료 생성자\n",
    "case class Cons[+A](head: A, tail: List[A]) extends List[A] // 비지 않은 리스트를 나타내는 List 자료 생성자. tail은 또 다른 Cons or Nil\n",
    "\n",
    "// List의 Companion object (trait와 이름이 같은 객체)\n",
    "// List의 생성과 조작을 위한 함수들을 담는다.\n",
    "object List {\n",
    "    def sum(ints: List[Int]): Int = ints match {  // 패턴 매치를 이용해서 정수 List의 합을 구하는 함수\n",
    "        case Nil => 0  // 빈 리스트 Nil의 경우 0을 리턴\n",
    "        case Cons(x, xs) => x + sum(xs)  // head가 x인 리스트는 x 더하기 tail의 합\n",
    "    }\n",
    "    \n",
    "    def product(ds: List[Double]): Double = ds match {\n",
    "        case Nil => 1.0\n",
    "        case Cons(0.0, _) => 0.0\n",
    "        case Cons(x, xs) => x * product(xs)\n",
    "    }\n",
    "    \n",
    "    def apply[A](as: A*): List[A] =   // A* 는 가변 인수를 나타냄 타입이 A인 인수를 여러개 받음 ','로 구분\n",
    "        if(as.isEmpty) Nil\n",
    "        else Cons(as.head, apply(as.tail: _*))\n",
    "}"
   ]
  },
  {
   "cell_type": "code",
   "execution_count": 2,
   "metadata": {
    "collapsed": false
   },
   "outputs": [
    {
     "data": {
      "text/plain": [
       "\u001b[36mres1\u001b[39m: \u001b[32mList\u001b[39m[\u001b[32mInt\u001b[39m] = Cons(1,Cons(2,Cons(3,Cons(4,Cons(5,Nil)))))"
      ]
     },
     "execution_count": 2,
     "metadata": {},
     "output_type": "execute_result"
    }
   ],
   "source": [
    "List(1,2,3,4,5)"
   ]
  },
  {
   "cell_type": "code",
   "execution_count": 3,
   "metadata": {
    "collapsed": false
   },
   "outputs": [
    {
     "data": {
      "text/plain": [
       "\u001b[36mres2\u001b[39m: \u001b[32mInt\u001b[39m = \u001b[32m15\u001b[39m"
      ]
     },
     "execution_count": 3,
     "metadata": {},
     "output_type": "execute_result"
    }
   ],
   "source": [
    "List.sum(res1)"
   ]
  },
  {
   "cell_type": "code",
   "execution_count": 4,
   "metadata": {
    "collapsed": false
   },
   "outputs": [
    {
     "data": {
      "text/plain": [
       "\u001b[36mex1\u001b[39m: \u001b[32mList\u001b[39m[\u001b[32mDouble\u001b[39m] = Nil\n",
       "\u001b[36mex2\u001b[39m: \u001b[32mList\u001b[39m[\u001b[32mInt\u001b[39m] = Cons(1,Nil)\n",
       "\u001b[36mex3\u001b[39m: \u001b[32mList\u001b[39m[\u001b[32mString\u001b[39m] = Cons(a,Cons(b,Nil))"
      ]
     },
     "execution_count": 4,
     "metadata": {},
     "output_type": "execute_result"
    }
   ],
   "source": [
    "val ex1: List[Double] = Nil\n",
    "val ex2: List[Int] = Cons(1, Nil)\n",
    "val ex3: List[String] = Cons(\"a\", Cons(\"b\", Nil))"
   ]
  },
  {
   "cell_type": "markdown",
   "metadata": {},
   "source": [
    "## Pattern Matching"
   ]
  },
  {
   "cell_type": "markdown",
   "metadata": {
    "collapsed": true
   },
   "source": [
    "target과 일치하는 패턴에 해당하는 결과를 리턴하는 구문. 위에 있는 패턴부터 검증, 여러 패턴과 일치하는 경우 위에서 부터 검증하기 때문에 최상위에 있는 패턴의 결과를 리턴함.\n",
    "```scala\n",
    "target match {\n",
    "    case pattern1 => result\n",
    "    case pattern2 => result\n",
    "    ...\n",
    "}\n",
    "```\n",
    "패턴은 `3`이나 `\"hi\"` 같은 리터럴과 `x`나 `xs`같이 소문자나 밑줄로 시작하는 식별자로 된 변수, 그리고 `Cons(x, xs)`나 `Nil`같은 자료 생성자로 구성됨. 변수는 모든 것에 부합하는 반면 자료 생성자는 해당 형태의 값에만 부합."
   ]
  },
  {
   "cell_type": "code",
   "execution_count": 5,
   "metadata": {
    "collapsed": false
   },
   "outputs": [
    {
     "data": {
      "text/plain": [
       "\u001b[36mres4_0\u001b[39m: \u001b[32mInt\u001b[39m = \u001b[32m42\u001b[39m\n",
       "\u001b[36mres4_1\u001b[39m: \u001b[32mInt\u001b[39m = \u001b[32m1\u001b[39m\n",
       "\u001b[36mres4_2\u001b[39m: \u001b[32mList\u001b[39m[\u001b[32mInt\u001b[39m] = Cons(2,Cons(3,Nil))"
      ]
     },
     "execution_count": 5,
     "metadata": {},
     "output_type": "execute_result"
    }
   ],
   "source": [
    "// Pattern Matching Example\n",
    "List(1,2,3) match { case _ => 42 }\n",
    "List(1,2,3) match { case Cons(h, _) => h }\n",
    "List(1,2,3) match { case Cons(_, t) => t }\n",
    "// List(1,2,3) match { case Nil => 42}"
   ]
  },
  {
   "cell_type": "markdown",
   "metadata": {},
   "source": [
    "## 연습문제 3.1\n",
    "다음 패턴 부합 표현식의 결과는 무엇인가?\n",
    "```scala\n",
    "val x = List(1,2,3,4,5) match {\n",
    "  case Cons(x, Cons(2, Cons(4, _))) => x\n",
    "  case Nil => 42\n",
    "  case Cons(x, Cons(y, Cons(3, Cons(4, _)))) => x + y\n",
    "  case Cons(h,t) => h + sum(t)\n",
    "  case _ => 101\n",
    "}\n",
    "```"
   ]
  },
  {
   "cell_type": "markdown",
   "metadata": {},
   "source": [
    "## Data Sharing of Functional Data-Structure"
   ]
  },
  {
   "cell_type": "markdown",
   "metadata": {},
   "source": [
    "## 연습문제 3.2\n",
    "List의 첫 요소를 제거하는 함수 tail을 구현하라. 이 함수가 상수 시간으로 실행됨을 주의할 것. Nil인 List도 지원하도록 독자의 구현을 수정하는 여러 가지 방법들도 고려해 보라. 이에 대해서는 다음 장에서 좀 더 살펴볼 것이다."
   ]
  },
  {
   "cell_type": "code",
   "execution_count": 6,
   "metadata": {
    "collapsed": false
   },
   "outputs": [
    {
     "data": {
      "text/plain": [
       "defined \u001b[32mfunction\u001b[39m \u001b[36mtail\u001b[39m"
      ]
     },
     "execution_count": 6,
     "metadata": {},
     "output_type": "execute_result"
    }
   ],
   "source": [
    "def tail[A](as: List[A]): List[A] = as match {\n",
    "    case Nil => throw new UnsupportedOperationException\n",
    "    case Cons(_, t) => t\n",
    "}"
   ]
  },
  {
   "cell_type": "markdown",
   "metadata": {},
   "source": [
    "## 연습문제 3.3\n",
    "같은 맥락에서, List의 첫 요소를 다른 값으로 대체하는 함수 setHead를 구현하라."
   ]
  },
  {
   "cell_type": "code",
   "execution_count": 7,
   "metadata": {
    "collapsed": false
   },
   "outputs": [
    {
     "data": {
      "text/plain": [
       "defined \u001b[32mfunction\u001b[39m \u001b[36msetHead\u001b[39m"
      ]
     },
     "execution_count": 7,
     "metadata": {},
     "output_type": "execute_result"
    }
   ],
   "source": [
    "def setHead[A](l: List[A], x: A): List[A] = l match {\n",
    "  case Nil => throw new UnsupportedOperationException\n",
    "  case Cons(h, t) => Cons(x, t)\n",
    "}"
   ]
  },
  {
   "cell_type": "markdown",
   "metadata": {},
   "source": [
    "## 연습문제 3.4\n",
    "tail을 일반화해서, 목록에서 처음 n개의 요소를 제거하는 함수 drop을 구현하라. 이 함수의 실행 시간은 제거되는 원소의 개수에만 비례함을 주의할 것. List 전체의 복사본을 만들 필요는 없다.\n",
    "```scala\n",
    "def drop[A](l: List[A], n: Int): List[A]\n",
    "```"
   ]
  },
  {
   "cell_type": "code",
   "execution_count": 8,
   "metadata": {
    "collapsed": false
   },
   "outputs": [
    {
     "data": {
      "text/plain": [
       "defined \u001b[32mfunction\u001b[39m \u001b[36mdrop\u001b[39m"
      ]
     },
     "execution_count": 8,
     "metadata": {},
     "output_type": "execute_result"
    }
   ],
   "source": [
    "def drop[A](l: List[A], n: Int): List[A] = {\n",
    "  def loop[A](as: List[A], n: Int): List[A] = \n",
    "    if(n>0) loop(tail(as), n-1)\n",
    "    else as\n",
    "  loop(l, n)\n",
    "}"
   ]
  },
  {
   "cell_type": "markdown",
   "metadata": {},
   "source": [
    "## 연습문제 3.5\n",
    "주어진 조건과 부합하는 List의 앞 요소들(prefix)을 제거하는 함수 dropWhile을 구현하라.\n",
    "```scala\n",
    "def dropWhile[A](l: List[A], f: A => Boolean): List[A]\n",
    "```"
   ]
  },
  {
   "cell_type": "code",
   "execution_count": 9,
   "metadata": {
    "collapsed": false
   },
   "outputs": [
    {
     "data": {
      "text/plain": [
       "defined \u001b[32mfunction\u001b[39m \u001b[36mdropWhile\u001b[39m"
      ]
     },
     "execution_count": 9,
     "metadata": {},
     "output_type": "execute_result"
    }
   ],
   "source": [
    "def dropWhile[A](l: List[A], f: A => Boolean): List[A] = l match {\n",
    "  case Nil => Nil\n",
    "  case Cons(h, t) if(f(h)) => dropWhile(t, f)\n",
    "  case _ => l\n",
    "}"
   ]
  },
  {
   "cell_type": "markdown",
   "metadata": {},
   "source": [
    "## 연습문제 3.6\n",
    "한 List의 마지막 요소를 제외한 모든 요소로 이루어진 List를 돌려주는 함수 init을 구현하라. 예를 들어 List(1,2,3,4)에 대해 init은 List(1,2,3)을 돌려주어야 한다. 이 함수를 tail처럼 상수 시간으로 구현할 수 없는 이유는 무엇일까?\n",
    "```scala\n",
    "def init[A](l: List[A]): List[A]\n",
    "```"
   ]
  },
  {
   "cell_type": "code",
   "execution_count": 10,
   "metadata": {
    "collapsed": false
   },
   "outputs": [
    {
     "data": {
      "text/plain": [
       "defined \u001b[32mfunction\u001b[39m \u001b[36minit\u001b[39m"
      ]
     },
     "execution_count": 10,
     "metadata": {},
     "output_type": "execute_result"
    }
   ],
   "source": [
    "def init[A](l: List[A]): List[A] = l match {\n",
    "  case Cons(_, Nil) => Nil\n",
    "  case Cons(h, t) => Cons(h, init(t))\n",
    "}\n",
    "\n",
    "// 리스트의 첫 원소인 head는 바로 접근이 가능하지만\n",
    "// tail은 앞에서 부터 차례대로 접근해야하기 때문에 리스트의 길이만큼의 시간이 걸림"
   ]
  },
  {
   "cell_type": "code",
   "execution_count": null,
   "metadata": {
    "collapsed": true
   },
   "outputs": [],
   "source": []
  }
 ],
 "metadata": {
  "kernelspec": {
   "display_name": "Scala",
   "language": "scala",
   "name": "scala"
  },
  "language_info": {
   "codemirror_mode": "text/x-scala",
   "file_extension": ".scala",
   "mimetype": "text/x-scala",
   "name": "scala211",
   "nbconvert_exporter": "script",
   "pygments_lexer": "scala",
   "version": "2.11.8"
  }
 },
 "nbformat": 4,
 "nbformat_minor": 2
}
