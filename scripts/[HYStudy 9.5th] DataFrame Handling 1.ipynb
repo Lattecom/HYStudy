{
 "cells": [
  {
   "cell_type": "code",
   "execution_count": 1,
   "metadata": {
    "collapsed": true
   },
   "outputs": [],
   "source": [
    "import pandas as pd\n",
    "import numpy as np"
   ]
  },
  {
   "cell_type": "code",
   "execution_count": 54,
   "metadata": {
    "collapsed": true
   },
   "outputs": [],
   "source": [
    "# 데이터프레임 로딩\n",
    "df = pd.read_csv('example_dataframe.csv')"
   ]
  },
  {
   "cell_type": "code",
   "execution_count": 5,
   "metadata": {
    "collapsed": false,
    "scrolled": true
   },
   "outputs": [
    {
     "data": {
      "text/html": [
       "<div>\n",
       "<table border=\"1\" class=\"dataframe\">\n",
       "  <thead>\n",
       "    <tr style=\"text-align: right;\">\n",
       "      <th></th>\n",
       "      <th>loan_status</th>\n",
       "      <th>loan_amnt</th>\n",
       "      <th>term</th>\n",
       "      <th>int_rate</th>\n",
       "      <th>grade</th>\n",
       "      <th>annual_inc</th>\n",
       "    </tr>\n",
       "  </thead>\n",
       "  <tbody>\n",
       "    <tr>\n",
       "      <th>1995</th>\n",
       "      <td>0</td>\n",
       "      <td>8000</td>\n",
       "      <td>36</td>\n",
       "      <td>11.58</td>\n",
       "      <td>2</td>\n",
       "      <td>30992.0</td>\n",
       "    </tr>\n",
       "    <tr>\n",
       "      <th>1996</th>\n",
       "      <td>1</td>\n",
       "      <td>6700</td>\n",
       "      <td>36</td>\n",
       "      <td>14.11</td>\n",
       "      <td>4</td>\n",
       "      <td>42050.0</td>\n",
       "    </tr>\n",
       "    <tr>\n",
       "      <th>1997</th>\n",
       "      <td>1</td>\n",
       "      <td>3000</td>\n",
       "      <td>36</td>\n",
       "      <td>9.63</td>\n",
       "      <td>1</td>\n",
       "      <td>30500.0</td>\n",
       "    </tr>\n",
       "    <tr>\n",
       "      <th>1998</th>\n",
       "      <td>1</td>\n",
       "      <td>6000</td>\n",
       "      <td>36</td>\n",
       "      <td>9.63</td>\n",
       "      <td>1</td>\n",
       "      <td>62000.0</td>\n",
       "    </tr>\n",
       "    <tr>\n",
       "      <th>1999</th>\n",
       "      <td>1</td>\n",
       "      <td>2500</td>\n",
       "      <td>36</td>\n",
       "      <td>11.58</td>\n",
       "      <td>2</td>\n",
       "      <td>95800.0</td>\n",
       "    </tr>\n",
       "  </tbody>\n",
       "</table>\n",
       "</div>"
      ],
      "text/plain": [
       "      loan_status  loan_amnt  term  int_rate  grade  annual_inc\n",
       "1995            0       8000    36     11.58      2     30992.0\n",
       "1996            1       6700    36     14.11      4     42050.0\n",
       "1997            1       3000    36      9.63      1     30500.0\n",
       "1998            1       6000    36      9.63      1     62000.0\n",
       "1999            1       2500    36     11.58      2     95800.0"
      ]
     },
     "execution_count": 5,
     "metadata": {},
     "output_type": "execute_result"
    }
   ],
   "source": [
    "# 데이터프레임 확인\n",
    "df.tail()"
   ]
  },
  {
   "cell_type": "code",
   "execution_count": 6,
   "metadata": {
    "collapsed": false,
    "scrolled": true
   },
   "outputs": [
    {
     "data": {
      "text/plain": [
       "1995    2\n",
       "1996    4\n",
       "1997    1\n",
       "1998    1\n",
       "1999    2\n",
       "Name: grade, dtype: int64"
      ]
     },
     "execution_count": 6,
     "metadata": {},
     "output_type": "execute_result"
    }
   ],
   "source": [
    "# 특정열의 마지막 부분만 확인\n",
    "df[\"grade\"].tail()"
   ]
  },
  {
   "cell_type": "code",
   "execution_count": 7,
   "metadata": {
    "collapsed": false,
    "scrolled": true
   },
   "outputs": [
    {
     "data": {
      "text/html": [
       "<div>\n",
       "<table border=\"1\" class=\"dataframe\">\n",
       "  <thead>\n",
       "    <tr style=\"text-align: right;\">\n",
       "      <th></th>\n",
       "      <th>loan_status</th>\n",
       "      <th>loan_amnt</th>\n",
       "      <th>term</th>\n",
       "      <th>int_rate</th>\n",
       "      <th>grade</th>\n",
       "      <th>annual_inc</th>\n",
       "    </tr>\n",
       "  </thead>\n",
       "  <tbody>\n",
       "    <tr>\n",
       "      <th>1000</th>\n",
       "      <td>0</td>\n",
       "      <td>7500</td>\n",
       "      <td>36</td>\n",
       "      <td>12.61</td>\n",
       "      <td>4</td>\n",
       "      <td>80004.0</td>\n",
       "    </tr>\n",
       "    <tr>\n",
       "      <th>1001</th>\n",
       "      <td>1</td>\n",
       "      <td>7500</td>\n",
       "      <td>36</td>\n",
       "      <td>10.71</td>\n",
       "      <td>2</td>\n",
       "      <td>79992.0</td>\n",
       "    </tr>\n",
       "    <tr>\n",
       "      <th>1002</th>\n",
       "      <td>1</td>\n",
       "      <td>3200</td>\n",
       "      <td>36</td>\n",
       "      <td>7.37</td>\n",
       "      <td>1</td>\n",
       "      <td>45240.0</td>\n",
       "    </tr>\n",
       "    <tr>\n",
       "      <th>1003</th>\n",
       "      <td>1</td>\n",
       "      <td>7000</td>\n",
       "      <td>36</td>\n",
       "      <td>8.00</td>\n",
       "      <td>1</td>\n",
       "      <td>44500.0</td>\n",
       "    </tr>\n",
       "    <tr>\n",
       "      <th>1004</th>\n",
       "      <td>1</td>\n",
       "      <td>6600</td>\n",
       "      <td>36</td>\n",
       "      <td>11.97</td>\n",
       "      <td>3</td>\n",
       "      <td>54000.0</td>\n",
       "    </tr>\n",
       "    <tr>\n",
       "      <th>1005</th>\n",
       "      <td>0</td>\n",
       "      <td>5050</td>\n",
       "      <td>36</td>\n",
       "      <td>12.29</td>\n",
       "      <td>3</td>\n",
       "      <td>62000.0</td>\n",
       "    </tr>\n",
       "  </tbody>\n",
       "</table>\n",
       "</div>"
      ],
      "text/plain": [
       "      loan_status  loan_amnt  term  int_rate  grade  annual_inc\n",
       "1000            0       7500    36     12.61      4     80004.0\n",
       "1001            1       7500    36     10.71      2     79992.0\n",
       "1002            1       3200    36      7.37      1     45240.0\n",
       "1003            1       7000    36      8.00      1     44500.0\n",
       "1004            1       6600    36     11.97      3     54000.0\n",
       "1005            0       5050    36     12.29      3     62000.0"
      ]
     },
     "execution_count": 7,
     "metadata": {},
     "output_type": "execute_result"
    }
   ],
   "source": [
    "# 데이터프레임 행 번호 지정하여 확인\n",
    "df.ix[1000:1005]"
   ]
  },
  {
   "cell_type": "code",
   "execution_count": 8,
   "metadata": {
    "collapsed": false
   },
   "outputs": [
    {
     "data": {
      "text/plain": [
       "1    1689\n",
       "0     311\n",
       "Name: loan_status, dtype: int64"
      ]
     },
     "execution_count": 8,
     "metadata": {},
     "output_type": "execute_result"
    }
   ],
   "source": [
    "# 'loan_status' 변수의 원소별 개수 확인\n",
    "pd.value_counts(df[\"loan_status\"])"
   ]
  },
  {
   "cell_type": "code",
   "execution_count": 10,
   "metadata": {
    "collapsed": false
   },
   "outputs": [
    {
     "data": {
      "text/plain": [
       "array([1, 2, 3, 4, 5, 6, 7], dtype=int64)"
      ]
     },
     "execution_count": 10,
     "metadata": {},
     "output_type": "execute_result"
    }
   ],
   "source": [
    "# 'grade' 변수의 원소 종류 확인\n",
    "np.unique(df['grade'])"
   ]
  },
  {
   "cell_type": "code",
   "execution_count": 11,
   "metadata": {
    "collapsed": false
   },
   "outputs": [
    {
     "data": {
      "text/plain": [
       "array([1, 2, 3, 4])"
      ]
     },
     "execution_count": 11,
     "metadata": {},
     "output_type": "execute_result"
    }
   ],
   "source": [
    "# unique는 중복값을 무시하고 유일한 값만을 반환\n",
    "a = [1, 1, 1, 2, 3, 4, 4]\n",
    "np.unique(a)"
   ]
  },
  {
   "cell_type": "code",
   "execution_count": 12,
   "metadata": {
    "collapsed": false
   },
   "outputs": [
    {
     "data": {
      "text/plain": [
       "0     29555.75\n",
       "1     23550.28\n",
       "2    130795.43\n",
       "3     45045.43\n",
       "4     21251.54\n",
       "5     72300.59\n",
       "dtype: float64"
      ]
     },
     "execution_count": 12,
     "metadata": {},
     "output_type": "execute_result"
    }
   ],
   "source": [
    "# 지정 행이나 열의 합(axis = 0: 열의 합, 1: 행의 합, default: axis = 0)\n",
    "df.ix[0:5].sum(axis=1)"
   ]
  },
  {
   "cell_type": "code",
   "execution_count": 13,
   "metadata": {
    "collapsed": false
   },
   "outputs": [
    {
     "data": {
      "text/plain": [
       "18312075"
      ]
     },
     "execution_count": 13,
     "metadata": {},
     "output_type": "execute_result"
    }
   ],
   "source": [
    "# sum() method에 인자가 없으므로 default값인 axis = 0 적용\n",
    "df[\"loan_amnt\"].sum()"
   ]
  },
  {
   "cell_type": "code",
   "execution_count": 14,
   "metadata": {
    "collapsed": false,
    "scrolled": true
   },
   "outputs": [
    {
     "data": {
      "text/html": [
       "<div>\n",
       "<table border=\"1\" class=\"dataframe\">\n",
       "  <thead>\n",
       "    <tr style=\"text-align: right;\">\n",
       "      <th></th>\n",
       "      <th>loan_status</th>\n",
       "      <th>loan_amnt</th>\n",
       "      <th>term</th>\n",
       "      <th>int_rate</th>\n",
       "      <th>grade</th>\n",
       "      <th>annual_inc</th>\n",
       "    </tr>\n",
       "  </thead>\n",
       "  <tbody>\n",
       "    <tr>\n",
       "      <th>1996</th>\n",
       "      <td>1.0</td>\n",
       "      <td>6700.0</td>\n",
       "      <td>36.0</td>\n",
       "      <td>14.11</td>\n",
       "      <td>4.0</td>\n",
       "      <td>4.205000e+04</td>\n",
       "    </tr>\n",
       "    <tr>\n",
       "      <th>1997</th>\n",
       "      <td>1.0</td>\n",
       "      <td>3000.0</td>\n",
       "      <td>36.0</td>\n",
       "      <td>9.63</td>\n",
       "      <td>1.0</td>\n",
       "      <td>3.050000e+04</td>\n",
       "    </tr>\n",
       "    <tr>\n",
       "      <th>1998</th>\n",
       "      <td>1.0</td>\n",
       "      <td>6000.0</td>\n",
       "      <td>36.0</td>\n",
       "      <td>9.63</td>\n",
       "      <td>1.0</td>\n",
       "      <td>6.200000e+04</td>\n",
       "    </tr>\n",
       "    <tr>\n",
       "      <th>1999</th>\n",
       "      <td>1.0</td>\n",
       "      <td>2500.0</td>\n",
       "      <td>36.0</td>\n",
       "      <td>11.58</td>\n",
       "      <td>2.0</td>\n",
       "      <td>9.580000e+04</td>\n",
       "    </tr>\n",
       "    <tr>\n",
       "      <th>Total</th>\n",
       "      <td>1689.0</td>\n",
       "      <td>18312075.0</td>\n",
       "      <td>72000.0</td>\n",
       "      <td>22298.85</td>\n",
       "      <td>5186.0</td>\n",
       "      <td>1.324444e+08</td>\n",
       "    </tr>\n",
       "  </tbody>\n",
       "</table>\n",
       "</div>"
      ],
      "text/plain": [
       "       loan_status   loan_amnt     term  int_rate   grade    annual_inc\n",
       "1996           1.0      6700.0     36.0     14.11     4.0  4.205000e+04\n",
       "1997           1.0      3000.0     36.0      9.63     1.0  3.050000e+04\n",
       "1998           1.0      6000.0     36.0      9.63     1.0  6.200000e+04\n",
       "1999           1.0      2500.0     36.0     11.58     2.0  9.580000e+04\n",
       "Total       1689.0  18312075.0  72000.0  22298.85  5186.0  1.324444e+08"
      ]
     },
     "execution_count": 14,
     "metadata": {},
     "output_type": "execute_result"
    }
   ],
   "source": [
    "# 변수별 합계 행 생성 및 확인\n",
    "df.ix[\"Total\"] = df.sum()\n",
    "df.tail()"
   ]
  },
  {
   "cell_type": "code",
   "execution_count": 17,
   "metadata": {
    "collapsed": false
   },
   "outputs": [
    {
     "data": {
      "text/html": [
       "<div>\n",
       "<table border=\"1\" class=\"dataframe\">\n",
       "  <thead>\n",
       "    <tr style=\"text-align: right;\">\n",
       "      <th></th>\n",
       "      <th>loan_status</th>\n",
       "      <th>loan_amnt</th>\n",
       "      <th>term</th>\n",
       "      <th>int_rate</th>\n",
       "      <th>grade</th>\n",
       "      <th>annual_inc</th>\n",
       "      <th>test</th>\n",
       "    </tr>\n",
       "  </thead>\n",
       "  <tbody>\n",
       "    <tr>\n",
       "      <th>1996</th>\n",
       "      <td>1.0</td>\n",
       "      <td>6700.0</td>\n",
       "      <td>36.0</td>\n",
       "      <td>14.11</td>\n",
       "      <td>4</td>\n",
       "      <td>4.205000e+04</td>\n",
       "      <td>NaN</td>\n",
       "    </tr>\n",
       "    <tr>\n",
       "      <th>1997</th>\n",
       "      <td>1.0</td>\n",
       "      <td>3000.0</td>\n",
       "      <td>36.0</td>\n",
       "      <td>9.63</td>\n",
       "      <td>A</td>\n",
       "      <td>3.050000e+04</td>\n",
       "      <td>NaN</td>\n",
       "    </tr>\n",
       "    <tr>\n",
       "      <th>1998</th>\n",
       "      <td>1.0</td>\n",
       "      <td>6000.0</td>\n",
       "      <td>36.0</td>\n",
       "      <td>9.63</td>\n",
       "      <td>A</td>\n",
       "      <td>6.200000e+04</td>\n",
       "      <td>NaN</td>\n",
       "    </tr>\n",
       "    <tr>\n",
       "      <th>1999</th>\n",
       "      <td>1.0</td>\n",
       "      <td>2500.0</td>\n",
       "      <td>36.0</td>\n",
       "      <td>11.58</td>\n",
       "      <td>2</td>\n",
       "      <td>9.580000e+04</td>\n",
       "      <td>NaN</td>\n",
       "    </tr>\n",
       "    <tr>\n",
       "      <th>Total</th>\n",
       "      <td>1689.0</td>\n",
       "      <td>18312075.0</td>\n",
       "      <td>72000.0</td>\n",
       "      <td>22298.85</td>\n",
       "      <td>5186</td>\n",
       "      <td>1.324444e+08</td>\n",
       "      <td>NaN</td>\n",
       "    </tr>\n",
       "  </tbody>\n",
       "</table>\n",
       "</div>"
      ],
      "text/plain": [
       "       loan_status   loan_amnt     term  int_rate grade    annual_inc  test\n",
       "1996           1.0      6700.0     36.0     14.11     4  4.205000e+04   NaN\n",
       "1997           1.0      3000.0     36.0      9.63     A  3.050000e+04   NaN\n",
       "1998           1.0      6000.0     36.0      9.63     A  6.200000e+04   NaN\n",
       "1999           1.0      2500.0     36.0     11.58     2  9.580000e+04   NaN\n",
       "Total       1689.0  18312075.0  72000.0  22298.85  5186  1.324444e+08   NaN"
      ]
     },
     "execution_count": 17,
     "metadata": {},
     "output_type": "execute_result"
    }
   ],
   "source": [
    "# 조건부 원소(성분, 값) 변경\n",
    "# 비어있는 열 'test' 생성 테스트\n",
    "df.ix[df.grade == 1.0, 'test'] = \"A\"\n",
    "df.tail()"
   ]
  },
  {
   "cell_type": "code",
   "execution_count": 19,
   "metadata": {
    "collapsed": false
   },
   "outputs": [
    {
     "data": {
      "text/plain": [
       "loan_status       0\n",
       "loan_amnt         0\n",
       "term              0\n",
       "int_rate          0\n",
       "grade             0\n",
       "annual_inc        0\n",
       "test           2001\n",
       "dtype: int64"
      ]
     },
     "execution_count": 19,
     "metadata": {},
     "output_type": "execute_result"
    }
   ],
   "source": [
    "# 변수 내 비어있는 셀 개수 확인\n",
    "df.isnull().sum()"
   ]
  },
  {
   "cell_type": "code",
   "execution_count": 20,
   "metadata": {
    "collapsed": false
   },
   "outputs": [
    {
     "data": {
      "text/plain": [
       "loan_status    float64\n",
       "loan_amnt      float64\n",
       "term           float64\n",
       "int_rate       float64\n",
       "grade           object\n",
       "annual_inc     float64\n",
       "test           float64\n",
       "dtype: object"
      ]
     },
     "execution_count": 20,
     "metadata": {},
     "output_type": "execute_result"
    }
   ],
   "source": [
    "# 변수별 성분속성 확인\n",
    "df.dtypes"
   ]
  },
  {
   "cell_type": "markdown",
   "metadata": {},
   "source": [
    "자주 등장하는 types\n",
    "- float(실수), int(정수): 숫자\n",
    "- string: 문자\n",
    "- object: 숫자+문자\n",
    "\n",
    "ex) 숫자나 문자로만 인코딩된 변수가 object 타입이라면 noise가 섞여있을 가능성 높음.  \n",
    "details: https://docs.scipy.org/doc/numpy/reference/arrays.dtypes.html"
   ]
  },
  {
   "cell_type": "code",
   "execution_count": 22,
   "metadata": {
    "collapsed": false
   },
   "outputs": [
    {
     "data": {
      "text/plain": [
       "loan_status  grade \n",
       "0.0          3.0        95\n",
       "             2.0        87\n",
       "             4.0        75\n",
       "             A          22\n",
       "             5.0        18\n",
       "             6.0        12\n",
       "             7.0         2\n",
       "1.0          2.0       525\n",
       "             3.0       465\n",
       "             A         378\n",
       "             4.0       221\n",
       "             5.0        80\n",
       "             6.0        18\n",
       "             7.0         2\n",
       "1689.0       5186.0      1\n",
       "Name: grade, dtype: int64"
      ]
     },
     "execution_count": 22,
     "metadata": {},
     "output_type": "execute_result"
    }
   ],
   "source": [
    "# 'grade' 변수를 'loan_status' 변수의 값에 따라 성분 개수 세기\n",
    "df.grade.groupby(df.loan_status).value_counts()"
   ]
  },
  {
   "cell_type": "code",
   "execution_count": 33,
   "metadata": {
    "collapsed": false,
    "scrolled": true
   },
   "outputs": [
    {
     "data": {
      "text/plain": [
       "count    2.001000e+03\n",
       "mean     1.830292e+04\n",
       "std      4.092038e+05\n",
       "min      5.000000e+02\n",
       "25%      5.000000e+03\n",
       "50%      7.500000e+03\n",
       "75%      1.200000e+04\n",
       "max      1.831208e+07\n",
       "Name: loan_amnt, dtype: float64"
      ]
     },
     "execution_count": 33,
     "metadata": {},
     "output_type": "execute_result"
    }
   ],
   "source": [
    "# 'loan_amnt' 변수에 기술통계 실행\n",
    "df[\"loan_amnt\"].describe()"
   ]
  },
  {
   "cell_type": "markdown",
   "metadata": {},
   "source": [
    "- count: 성분 개수\n",
    "- mean: 평균\n",
    "- std: standard deviation, 표준편차\n",
    "- min: minimum, 최소값\n",
    "- 25%: 1 사분위수, 데이터의 순서에서 25% 지점에 위치한 값\n",
    "- 50%: 2 사분위수, 데이터의 순서에서 50% 지점에 위치한 값, 중앙값과 동일\n",
    "- 75%: 3 사분위수, 데이터의 순서에서 75% 지점에 위치한 값\n",
    "- max: maximum, 최대값\n",
    "\n",
    "사분위수 참조: http://support.minitab.com/ko-kr/minitab/17/topic-library/basic-statistics-and-graphs/graphs/graphs-that-compare-groups/boxplots/quartiles/"
   ]
  },
  {
   "cell_type": "code",
   "execution_count": 62,
   "metadata": {
    "collapsed": true
   },
   "outputs": [],
   "source": [
    "import matplotlib as mpl    # 기본 matplotlib 라이브러리\n",
    "import matplotlib.pylab as plt    # pyplot과 다르게 계산식이 포함된 수식 및 변수 표현에 유리\n",
    "import seaborn as sns    # matplotlib을 override하는 시각화 디자인 향상 툴\n",
    "sns.set(palette=\"husl\", font_scale=2)    # 색상 및 글자크기 설정"
   ]
  },
  {
   "cell_type": "code",
   "execution_count": 63,
   "metadata": {
    "collapsed": false
   },
   "outputs": [
    {
     "data": {
      "image/png": "[encoded data removed]",
      "text/plain": [
       "<matplotlib.figure.Figure at 0xbb2c6a0>"
      ]
     },
     "metadata": {},
     "output_type": "display_data"
    }
   ],
   "source": [
    "plt.figure(figsize=(5, 3))    # plot 크기 설정\n",
    "plt.hist(df[\"loan_amnt\"], bins=10)    # 'loan_amnt' 변수에 대한 히스토그램, 구간 = 10\n",
    "plt.title(\"Histogram of Loan Amount\")    # 히스토그램 제목 설정\n",
    "plt.show()    # 히스토그램 출력"
   ]
  }
 ],
 "metadata": {
  "kernelspec": {
   "display_name": "Python 2",
   "language": "python",
   "name": "python2"
  },
  "language_info": {
   "codemirror_mode": {
    "name": "ipython",
    "version": 2
   },
   "file_extension": ".py",
   "mimetype": "text/x-python",
   "name": "python",
   "nbconvert_exporter": "python",
   "pygments_lexer": "ipython2",
   "version": "2.7.13"
  }
 },
 "nbformat": 4,
 "nbformat_minor": 2
}
